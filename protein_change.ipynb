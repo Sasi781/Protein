{
 "cells": [
  {
   "cell_type": "code",
   "execution_count": 1,
   "metadata": {},
   "outputs": [],
   "source": [
    "from FASTA import fasta\n",
    "from VARIANT import mutation\n",
    "from DRUG_ID import drug_id\n",
    "from DRUG_SMILES import drug_smiles\n",
    "from Model import Prediction"
   ]
  },
  {
   "cell_type": "code",
   "execution_count": 2,
   "metadata": {},
   "outputs": [],
   "source": [
    "def sequence_generate(pdb):\n",
    "    seq=str(fasta(pdb))\n",
    "    return seq"
   ]
  },
  {
   "cell_type": "code",
   "execution_count": 3,
   "metadata": {},
   "outputs": [],
   "source": [
    "def cid_generate(pdb):\n",
    "    cid=str(drug_id(pdb))\n",
    "    return cid\n",
    "\n",
    "def smiles_generate(cid):\n",
    "    smile=str(drug_smiles(cid))\n",
    "    return smile"
   ]
  },
  {
   "cell_type": "code",
   "execution_count": 35,
   "metadata": {},
   "outputs": [
    {
     "name": "stdout",
     "output_type": "stream",
     "text": [
      "Drug and Target associated with PDB ID  1A7V is:\n",
      "SMILES:  Cc1c2n3c(c1CCC(=O)O)C=C4C(=C(C5=[N]4[Fe]36[N]7=C(C=C8N6C(=C5)C(=C8C)C=C)C(=C(C7=C2)C)C=C)C)CCC(=O)O\n",
      "Sequence:  QTDVIAQRKAILKQMGEATKPIAAMLKGEAKFDQAVVQKSLAAIADDSKKLPALFPADSKTGGDTAALPKIWEDKAKFDDLFAKLAAAATAAQGTIKDEASLKANIGGVLGNCKSCHDDFRAKKS\n"
     ]
    }
   ],
   "source": [
    "pdb=input(\"Enter the PDB ID:\")\n",
    "var_list=[]\n",
    "smile=smiles_generate(cid_generate(pdb))\n",
    "seq=sequence_generate(pdb)\n",
    "print(\"Drug and Target associated with PDB ID \",pdb,\"is:\")\n",
    "print(\"SMILES: \",smile)\n",
    "print(\"Sequence: \",seq)"
   ]
  },
  {
   "cell_type": "code",
   "execution_count": 5,
   "metadata": {},
   "outputs": [],
   "source": [
    "def mutation_chain(pdb):\n",
    "    variations=mutation(pdb)\n",
    "    list=variations.Result()\n",
    "    # print(list)\n",
    "    var_list.append(list)\n",
    "    return list"
   ]
  },
  {
   "cell_type": "code",
   "execution_count": 6,
   "metadata": {},
   "outputs": [],
   "source": [
    "# (mutation_chain(pdb))"
   ]
  },
  {
   "cell_type": "markdown",
   "metadata": {},
   "source": [
    "DATA GENERATION & PRE-PROCESSING"
   ]
  },
  {
   "cell_type": "code",
   "execution_count": 6,
   "metadata": {},
   "outputs": [],
   "source": [
    "import pandas as pd\n",
    "\n",
    "# Define the path to the CSV file\n",
    "csv_file_path = \"protein_change_dataset.csv\"\n",
    "\n",
    "# Load the CSV file into a DataFrame\n",
    "df = pd.read_csv(csv_file_path)\n",
    "s=df[\"PDB ID\"][0]\n",
    "for i in range(0,len(df[\"PDB ID\"])):\n",
    "    if(s!=(df[\"PDB ID\"][i])):\n",
    "        s=df[\"PDB ID\"][i]\n",
    "        df[\"SMILES\"][i]=smiles_generate(cid_generate(df[\"PDB ID\"][i]))\n",
    "        smile=df[\"SMILES\"][i]\n",
    "    else:\n",
    "        df[\"SMILES\"][i]=smile\n",
    "c=0\n",
    "for i in range(len(df[\"Mutation_PDB\"])):\n",
    "    if(len(df[\"Mutation_PDB\"][i])==6):\n",
    "       c=c+1\n",
    "        \n",
    "\n",
    "# df.to_csv(csv_file_path, index=False)\n",
    "nan_count = df['SMILES'].isnull().sum()\n",
    "# print((df[\"Sequence\"][255][58]))\n",
    "# max_length = df['Sequence'].str.len().max()\n",
    "print(nan_count)"
   ]
  },
  {
   "cell_type": "code",
   "execution_count": 7,
   "metadata": {},
   "outputs": [],
   "source": [
    "for i in range(len(df[\"PDB ID\"])):\n",
    "    if(df[\"PDB ID\"][i]==pdb):\n",
    "        smiles=df[\"SMILES\"][i]\n",
    "        break"
   ]
  },
  {
   "cell_type": "markdown",
   "metadata": {},
   "source": [
    "DRUG Featurization - Molecular Embeddings"
   ]
  },
  {
   "cell_type": "code",
   "execution_count": 12,
   "metadata": {},
   "outputs": [
    {
     "name": "stdout",
     "output_type": "stream",
     "text": [
      "Requirement already satisfied: rdkit in c:\\users\\sasin\\anaconda3\\lib\\site-packages (2023.3.3)\n",
      "Requirement already satisfied: numpy in c:\\users\\sasin\\anaconda3\\lib\\site-packages (from rdkit) (1.24.3)\n",
      "Requirement already satisfied: Pillow in c:\\users\\sasin\\anaconda3\\lib\\site-packages (from rdkit) (9.4.0)\n",
      "Note: you may need to restart the kernel to use updated packages.\n"
     ]
    }
   ],
   "source": [
    "pip install rdkit"
   ]
  },
  {
   "cell_type": "code",
   "execution_count": 9,
   "metadata": {},
   "outputs": [
    {
     "data": {
      "image/png": "[encoded data removed]",
      "text/plain": [
       "<rdkit.Chem.rdchem.Mol at 0x21ae78d0270>"
      ]
     },
     "execution_count": 9,
     "metadata": {},
     "output_type": "execute_result"
    }
   ],
   "source": [
    "from rdkit import Chem\n",
    "from rdkit.Chem.Draw import IPythonConsole\n",
    "mol=Chem.MolFromSmiles(smiles)\n",
    "mol"
   ]
  },
  {
   "cell_type": "code",
   "execution_count": 10,
   "metadata": {},
   "outputs": [],
   "source": [
    "import networkx as nx\n",
    "import torch\n",
    "import torch_geometric as pyg\n",
    "import torch.nn as nn\n",
    "import numpy as np\n",
    "import random"
   ]
  },
  {
   "cell_type": "code",
   "execution_count": 12,
   "metadata": {},
   "outputs": [
    {
     "name": "stdout",
     "output_type": "stream",
     "text": [
      "[43]\n",
      "[4.6786723136901855, 5.5968475341796875, -0.7502793073654175, 6.403048992156982, 1.0044703483581543, -0.4731263518333435, -0.3815072774887085, 2.323955535888672, 0.5431624054908752, 4.273020267486572, 3.0142087936401367, 1.685444712638855, 1.2771445512771606, 6.472745418548584, 0.6425771713256836, -4.0386247634887695, -7.704404830932617, 2.1157164573669434, -0.014995239675045013, -3.263251304626465, -6.184858322143555, -6.8933024406433105, -5.687821388244629, 0.05528359115123749, -0.3715476393699646, -0.4925377368927002, 0.19259656965732574, 1.1635491847991943, 3.735762119293213, -2.052586078643799, -3.7327113151550293, 3.8020834922790527, -1.8493273258209229, 5.251523971557617, -0.6071771383285522, 0.4379674792289734, 2.4669508934020996, -4.9527587890625, 1.5813366174697876, 0.37822917103767395, 1.9886891841888428, -7.110009670257568, -0.6477255821228027, -0.8576245307922363, 1.4728962182998657, -0.5923424363136292, -1.7908190488815308, -1.3970917463302612, 0.37804004549980164, 2.8684260845184326, -2.282416820526123, 1.477029800415039, 3.3645706176757812, -1.5466903448104858, -1.4835820198059082, 2.3006680011749268, 1.6601650714874268, -1.643739938735962, 6.794512748718262, 2.8174219131469727, 0.835471510887146, 3.277575731277466, -0.045676089823246, 1.120886206626892, -3.9995596408843994, -1.051798939704895, -3.3563218116760254, -1.2292300462722778, -0.46831926703453064, 3.8426592350006104, -0.8032255172729492, -5.7249908447265625, -1.63457190990448, 0.8857710361480713, -1.6859798431396484, 2.112759590148926, 0.9605377912521362, -1.1767057180404663, -0.44969144463539124, 0.06968730688095093, -3.384960174560547, -6.040788650512695, -0.6962814331054688, -6.400404453277588, 0.5615895390510559, 0.7419933676719666, 2.3693478107452393, 2.106794595718384, -1.7322614192962646, 2.5277597904205322, -1.1433844566345215, -1.6108123064041138, 4.9466023445129395, 2.3645882606506348, -0.16367724537849426, -0.8571325540542603, 3.352116107940674, 0.8274075984954834, -2.879391670227051, 1.669350266456604, -4.84070348739624, 2.2400572299957275, 1.8280746936798096, 2.0295257568359375, -1.5025012493133545, -4.055506706237793, -2.8236782550811768, -3.0644426345825195, -8.331781387329102, 3.0604209899902344, 1.29725980758667, -2.2532410621643066, 4.0269670486450195, -0.4197015166282654, 1.6584954261779785, 2.291746139526367, 0.930448055267334, 0.6880995035171509, -1.8558419942855835, 0.424621045589447, -2.6332690715789795, 4.434907913208008, -6.765883445739746, 2.605416774749756, -4.181482315063477, 1.0095492601394653, 1.2514299154281616, -6.823286533355713, -2.8144359588623047, 3.0169730186462402, 1.490836501121521, -4.136754989624023, 8.599320411682129, -1.6602305173873901, 2.0553035736083984, 2.29091477394104, 4.03908634185791, 1.7065403461456299, 1.9416707754135132, -2.4872889518737793, -4.029297351837158, -2.2282798290252686, 0.47742050886154175, 6.630376815795898, -1.6427236795425415, -5.484822750091553, -1.185002326965332, -1.4989567995071411, -3.776268720626831, 0.1572003960609436, -0.06533779203891754, 2.9447567462921143, 2.0371949672698975, -3.436690330505371, 2.987931728363037, -0.002481430768966675, -2.823917865753174, -0.8106187582015991, 0.905340313911438, -4.44146203994751, 1.7416508197784424, 7.114984512329102, 1.4354358911514282, 4.434937000274658, -1.5896246433258057, 3.5996146202087402, -0.5586348176002502]\n"
     ]
    }
   ],
   "source": [
    "nx_graph=[]\n",
    "length=[]\n",
    "# Convert the SMILES string to an RDKit molecule object\n",
    "for x in range(0,1):\n",
    "    nx_graph.append(nx.Graph())\n",
    "    l=0\n",
    "    # Add nodes  to the graph\n",
    "    for atom in mol.GetAtoms():\n",
    "    #     print(atom.GetSymbol())\n",
    "        l=l+1\n",
    "        atom_idx = atom.GetIdx()\n",
    "        atom_symbol = atom.GetSymbol()\n",
    "        nx_graph[x].add_node(atom_idx, atom_symbol=atom_symbol)\n",
    "    length.append(l)\n",
    "    # print(length)\n",
    "    label_list=[]\n",
    "    for i in range(l):\n",
    "        label_list.append('C')\n",
    "    # Add edges  to the graph\n",
    "    for bond in mol.GetBonds():\n",
    "        start_atom_idx = bond.GetBeginAtom().GetIdx()\n",
    "        s_atom=bond.GetBeginAtom().GetSymbol()\n",
    "    #     s_atom_idx= s_atom\n",
    "        end_atom_idx = bond.GetEndAtom().GetIdx()\n",
    "        e_atom=bond.GetEndAtom().GetSymbol()\n",
    "        bond_type = bond.GetBondTypeAsDouble()\n",
    "        nx_graph[x].add_edge(start_atom_idx, end_atom_idx, bond_type=bond_type)\n",
    "        label_list[start_atom_idx]=s_atom\n",
    "        label_list[end_atom_idx]=e_atom\n",
    "    pos = nx.spring_layout(nx_graph[x])\n",
    "    # nx.draw(nx_graph[x], pos, with_labels=True,node_size=500, node_color=\"lightblue\")\n",
    "print(length)\n",
    "\n",
    "gnn_arr_drug=[]\n",
    "# print(len(data))\n",
    "for x in range(0,1):\n",
    "    data1 = pyg.utils.from_networkx(nx_graph[x])\n",
    "    seed = 40\n",
    "    torch.manual_seed(seed)\n",
    "    torch.cuda.manual_seed(seed)\n",
    "    np.random.seed(seed)\n",
    "    random.seed(seed)\n",
    "\n",
    "    # Create one-hot encoding for 'atom_symbol'\n",
    "    atom_symbols = [nx_graph[x].nodes[node]['atom_symbol'] for node in nx_graph[x].nodes()]\n",
    "    unique_symbols = list(set(atom_symbols))\n",
    "    symbol_to_index = {symbol: i for i, symbol in enumerate(unique_symbols)}\n",
    "    one_hot_encoded_symbols = torch.eye(len(unique_symbols))[torch.tensor([symbol_to_index[symbol] for symbol in atom_symbols])]\n",
    "    data1.x = one_hot_encoded_symbols\n",
    "\n",
    "    class GNNModel(nn.Module):\n",
    "        def __init__(self, node_input_dim, hidden_dim):\n",
    "            super(GNNModel, self).__init__()\n",
    "            self.conv1 = pyg.nn.GCNConv(node_input_dim, hidden_dim)\n",
    "            self.conv2 = pyg.nn.GCNConv(hidden_dim, hidden_dim)\n",
    "\n",
    "        def forward(self, data1):\n",
    "            x, edge_index = data1.x, data1.edge_index\n",
    "            x = self.conv1(x, edge_index)\n",
    "            x = self.conv2(x, edge_index)\n",
    "            return x\n",
    "    # Create an instance of your GNN model\n",
    "    node_input_dim = one_hot_encoded_symbols.size(1)  # Input dimension is the number of one-hot encoded symbols\n",
    "#     print(node_input_dim)\n",
    "    hidden_dim = 167\n",
    "    gnn_model = GNNModel(node_input_dim, hidden_dim)\n",
    "    gnn_model.eval()\n",
    "    node_features = gnn_model(data1)\n",
    "    node_features_list = node_features.tolist()\n",
    "    gnn_feature_values=[]\n",
    "    for i in range(0,hidden_dim):\n",
    "        sum1=0.0\n",
    "        for j in range(0,length[x]):\n",
    "            sum1+=node_features[j][i]\n",
    "        gnn_feature_values.append(sum1.item())\n",
    "\n",
    "#     print(gnn_feature_values)\n",
    "    gnn_arr_drug.append(gnn_feature_values)\n",
    "\n",
    "    flattened_list = [item for sublist in node_features_list for item in sublist]\n",
    "\n",
    "print((gnn_arr_drug[0]))"
   ]
  },
  {
   "cell_type": "markdown",
   "metadata": {},
   "source": [
    "Protein Featurization - Word2Vec"
   ]
  },
  {
   "cell_type": "code",
   "execution_count": 6,
   "metadata": {},
   "outputs": [
    {
     "name": "stdout",
     "output_type": "stream",
     "text": [
      "Collecting word2vec\n",
      "  Downloading word2vec-0.11.1.tar.gz (42 kB)\n",
      "     ---------------------------------------- 0.0/42.3 kB ? eta -:--:--\n",
      "     ------------------ ------------------- 20.5/42.3 kB 640.0 kB/s eta 0:00:01\n",
      "     ------------------ ------------------- 20.5/42.3 kB 640.0 kB/s eta 0:00:01\n",
      "     ------------------------------------ - 41.0/42.3 kB 279.3 kB/s eta 0:00:01\n",
      "     -------------------------------------- 42.3/42.3 kB 256.6 kB/s eta 0:00:00\n",
      "  Installing build dependencies: started\n",
      "  Installing build dependencies: finished with status 'done'\n",
      "  Getting requirements to build wheel: started\n",
      "  Getting requirements to build wheel: finished with status 'done'\n",
      "  Preparing metadata (pyproject.toml): started\n",
      "  Preparing metadata (pyproject.toml): finished with status 'done'\n",
      "Requirement already satisfied: numpy>=1.9.2 in c:\\users\\sasin\\anaconda3\\lib\\site-packages (from word2vec) (1.24.3)\n",
      "Requirement already satisfied: joblib in c:\\users\\sasin\\anaconda3\\lib\\site-packages (from word2vec) (1.2.0)\n",
      "Building wheels for collected packages: word2vec\n",
      "  Building wheel for word2vec (pyproject.toml): started\n",
      "  Building wheel for word2vec (pyproject.toml): finished with status 'done'\n",
      "  Created wheel for word2vec: filename=word2vec-0.11.1-py2.py3-none-any.whl size=515233 sha256=e0ab0ecd26d03874bc0042db017852c0214958705aac7a379013c18c44433ecd\n",
      "  Stored in directory: c:\\users\\sasin\\appdata\\local\\pip\\cache\\wheels\\53\\1f\\b2\\ff3d47b2a8bd249985b0c59210004a85d70ec90bbcff8aaa93\n",
      "Successfully built word2vec\n",
      "Installing collected packages: word2vec\n",
      "Successfully installed word2vec-0.11.1\n",
      "Note: you may need to restart the kernel to use updated packages.\n"
     ]
    }
   ],
   "source": [
    "pip install word2vec"
   ]
  },
  {
   "cell_type": "code",
   "execution_count": 13,
   "metadata": {},
   "outputs": [
    {
     "name": "stdout",
     "output_type": "stream",
     "text": [
      "Numerical vector representation of the protein sequence(Word2Vec):\n",
      "[ 2.42941431e-04  1.56164588e-03  2.27107620e-03  3.32985015e-04\n",
      " -4.02350537e-03  1.79672061e-04  5.04687941e-03 -1.01163045e-04\n",
      " -7.80225906e-04 -3.20823048e-03  1.79419620e-03  5.16602122e-05\n",
      " -5.00847294e-04 -2.44652457e-03 -2.45368108e-03  3.37657460e-04\n",
      " -1.08507206e-03 -8.36534542e-04 -2.29156972e-03 -2.95604183e-03\n",
      "  3.25304078e-04  1.74114702e-03  4.71852574e-04  6.50964968e-04\n",
      "  2.02561216e-03  3.07514274e-04 -1.82179688e-03  5.02700743e-04\n",
      "  4.15301474e-04 -3.34156328e-04  2.43273025e-04 -9.43945954e-04\n",
      "  3.35858716e-03  4.49740415e-04 -1.30091968e-04 -2.13799742e-03\n",
      "  2.49381573e-03  1.07555976e-03  1.17925357e-03 -5.09245321e-04\n",
      " -3.05667683e-03 -1.85549830e-03 -2.68914341e-03 -3.24934674e-03\n",
      " -8.34431557e-04 -2.77899671e-04 -2.01303442e-03  4.29772399e-03\n",
      "  6.87847612e-04  4.01240867e-03 -9.70592606e-04 -5.84458467e-04\n",
      " -3.16728954e-04 -7.07214116e-04  1.10005005e-03 -1.86390989e-03\n",
      " -4.90663049e-04 -3.78706027e-04 -1.88089651e-03  3.24407290e-03\n",
      "  1.66953332e-03  1.12160377e-03 -2.35317764e-03 -5.68146992e-04\n",
      " -3.34449694e-04 -9.20502876e-04 -1.46235107e-03 -3.10618291e-03\n",
      " -1.26348203e-03  9.43693041e-04  1.12911162e-03  2.92142178e-03\n",
      "  2.22928356e-03 -2.26234575e-03  1.50310225e-03 -3.81659222e-04\n",
      "  5.42873167e-04  4.82391653e-04 -1.68639270e-03 -7.56344991e-04\n",
      "  2.06915312e-04  3.41275969e-04 -6.40904997e-04  1.28020579e-03\n",
      " -8.33528640e-04 -6.86181244e-04  8.47284275e-04 -2.84302537e-03\n",
      " -3.72274022e-04  3.29911057e-03 -7.60726689e-04 -2.40305369e-03\n",
      "  2.18215445e-03  1.47880579e-03  4.10714361e-04  2.64155213e-03\n",
      " -5.20084286e-04 -1.80863764e-03  1.55350717e-03  1.10811042e-03]\n"
     ]
    }
   ],
   "source": [
    "from gensim.models import Word2Vec\n",
    "import numpy as np\n",
    "\n",
    "# Example protein sequence\n",
    "protein_sequence = seq\n",
    "\n",
    "# Tokenize the protein sequence into individual amino acids\n",
    "amino_acids = [aa for aa in protein_sequence]\n",
    "\n",
    "# Train a Word2Vec model on a corpus of protein sequences\n",
    "# For demonstration purposes, we'll use a small corpus consisting of the input sequence itself\n",
    "corpus = [amino_acids]\n",
    "word2vec_model = Word2Vec(sentences=corpus, vector_size=167, window=5, min_count=1, sg=1)\n",
    "\n",
    "# Convert each amino acid into its corresponding Word2Vec embedding vector\n",
    "embedding_size = word2vec_model.vector_size\n",
    "sequence_vectors = [word2vec_model.wv[aa] for aa in amino_acids]\n",
    "\n",
    "# Aggregate the embedding vectors to obtain a single numerical vector representation for the protein sequence\n",
    "protein_vector = np.mean(sequence_vectors, axis=0)\n",
    "\n",
    "# Print the numerical vector representation\n",
    "print(\"Numerical vector representation of the protein sequence(Word2Vec):\")\n",
    "\n",
    "print((protein_vector[0:100]))"
   ]
  },
  {
   "cell_type": "markdown",
   "metadata": {},
   "source": [
    "## Mutant Encoding"
   ]
  },
  {
   "cell_type": "code",
   "execution_count": 14,
   "metadata": {},
   "outputs": [
    {
     "name": "stdout",
     "output_type": "stream",
     "text": [
      "Mutation feature: [0. 0. 0. 0. 0. 0. 0. 0. 0. 0. 0. 0. 0. 0. 0. 0. 0. 0. 0. 0. 0. 0. 0. 0.\n",
      " 0. 0. 0. 0. 0. 0. 0. 0. 0. 0. 0. 0. 0. 0. 0. 0. 0. 0. 0. 0. 0. 0. 0. 0.\n",
      " 0. 0. 0. 0. 0. 0. 0. 0. 0. 0. 0. 0. 0. 0. 0. 0. 0. 0. 0. 0. 0. 0. 0. 0.\n",
      " 0. 0. 0. 0. 0. 0. 0. 0. 0. 0. 0. 0. 0. 0. 0. 0. 0. 0. 0. 0. 0. 0. 0. 0.\n",
      " 0. 0. 0. 0. 0. 0. 0. 1. 0. 0. 0. 0. 0. 0. 0. 0. 0. 0. 0. 0. 0. 0. 0. 0.\n",
      " 0. 0. 0. 0. 0. 0. 0. 0. 0. 0. 0. 0. 0. 0. 0. 0. 0. 0. 0. 0. 0. 0. 0. 0.\n",
      " 0. 0. 0. 0. 0. 0. 0. 0. 0. 0. 0. 0. 0. 0. 0. 0. 0. 0. 0. 0. 0. 0. 0. 0.\n",
      " 0. 0. 0. 0. 0. 0. 0. 0. 0. 0. 0. 0. 0. 0. 0. 0. 0. 0. 0. 0. 0. 0. 0. 0.\n",
      " 0. 0. 0. 0. 0. 0. 0. 0. 0. 0. 0. 0. 0. 0. 0. 0. 0. 0. 0. 0. 0. 0. 0. 0.\n",
      " 0. 0. 0. 0. 0. 0. 0. 0. 0. 0. 0. 0. 0. 0. 0. 0. 0. 0. 0. 0. 0. 0. 0. 0.\n",
      " 0. 1. 0. 0. 0. 0. 0. 0. 0. 0.]\n"
     ]
    }
   ],
   "source": [
    "import numpy as np\n",
    "\n",
    "# Define a function to featureize a mutation chain\n",
    "def featureize_mutation_chain(mutation_chain):\n",
    "    # Convert amino acid symbols to one-hot encoding\n",
    "    amino_acids = seq\n",
    "    aa_to_index = {aa: i for i, aa in enumerate(amino_acids)}\n",
    "    num=\"\"\n",
    "    f=0\n",
    "    for i in range(len(mutation_chain)):\n",
    "        if(mutation_chain[i].isdigit()):\n",
    "            num=num+mutation_chain[i]\n",
    "        if(i!=0 and mutation_chain[i].isalpha()):\n",
    "            break\n",
    "    mutation_position = int(num)  # Extract the position (e.g., 73)\n",
    "    mutated_aa = mutation_chain[-1] \n",
    "    # Featureize mutation position\n",
    "    position_feature = np.zeros(len(amino_acids))\n",
    "    position_feature[mutation_position - 1] = 1  # Set the position to 1 in the one-hot encoding\n",
    "    # print(position_feature)\n",
    "    # Featureize mutated amino acid\n",
    "    mutated_aa_feature = np.zeros(len(amino_acids))\n",
    "    mutated_aa_index = aa_to_index.get(mutated_aa, -1)\n",
    "    if mutated_aa_index != -1:\n",
    "        mutated_aa_feature[mutated_aa_index] = 1  # Set the mutated amino acid to 1 in the one-hot encoding\n",
    "\n",
    "    # print(mutated_aa_feature)\n",
    "    # Combine features\n",
    "    features = np.concatenate([position_feature, mutated_aa_feature])\n",
    "\n",
    "    return features\n",
    "\n",
    "# Example mutation chain\n",
    "m=mutation_chain(pdb)\n",
    "features=[]\n",
    "for i in range(len(m)):\n",
    "    mutation_features = featureize_mutation_chain(m[i])\n",
    "    features.append(mutation_features)\n",
    "print(\"Mutation feature:\", features[0])"
   ]
  },
  {
   "cell_type": "markdown",
   "metadata": {},
   "source": [
    "## Vector Concatenate"
   ]
  },
  {
   "cell_type": "code",
   "execution_count": 15,
   "metadata": {},
   "outputs": [
    {
     "name": "stdout",
     "output_type": "stream",
     "text": [
      "(13, 334)\n"
     ]
    }
   ],
   "source": [
    "vector_concat=[]\n",
    "for i in range(len(m)):\n",
    "    arrays_to_concatenate = (gnn_arr_drug[0],protein_vector)\n",
    "    # Specify the axis (0 for vertical or 1 for horizontal concatenation)\n",
    "    axis_to_concatenate = 0  # You can change this to 1 if you want to concatenate horizontally\n",
    "    # Use np.concatenate to concatenate the arrays\n",
    "\n",
    "    arr = np.concatenate(arrays_to_concatenate, axis=axis_to_concatenate)\n",
    "    vector_concat.append(arr)\n",
    "overall_concat=np.array(vector_concat)\n",
    "print(overall_concat.shape)"
   ]
  },
  {
   "cell_type": "markdown",
   "metadata": {},
   "source": [
    "## Load Trained Model"
   ]
  },
  {
   "cell_type": "code",
   "execution_count": 16,
   "metadata": {},
   "outputs": [
    {
     "name": "stdout",
     "output_type": "stream",
     "text": [
      "Model: \"model_7\"\n",
      "_________________________________________________________________\n",
      " Layer (type)                Output Shape              Param #   \n",
      "=================================================================\n",
      " concatenated_input (InputL  [(None, 2364)]            0         \n",
      " ayer)                                                           \n",
      "                                                                 \n",
      " sequential_12 (Sequential)  (None, 64)                310976    \n",
      "                                                                 \n",
      " dense_70 (Dense)            (None, 256)               16640     \n",
      "                                                                 \n",
      " dense_71 (Dense)            (None, 128)               32896     \n",
      "                                                                 \n",
      " dense_72 (Dense)            (None, 64)                8256      \n",
      "                                                                 \n",
      " dense_73 (Dense)            (None, 32)                2080      \n",
      "                                                                 \n",
      " dense_74 (Dense)            (None, 1)                 33        \n",
      "                                                                 \n",
      "=================================================================\n",
      "Total params: 370881 (1.41 MB)\n",
      "Trainable params: 370881 (1.41 MB)\n",
      "Non-trainable params: 0 (0.00 Byte)\n",
      "_________________________________________________________________\n"
     ]
    }
   ],
   "source": [
    "from tensorflow.keras.models import load_model\n",
    "savedmodel=load_model('Change.h5')\n",
    "savedmodel.summary()"
   ]
  },
  {
   "cell_type": "markdown",
   "metadata": {},
   "source": [
    "## Predicted Mutations"
   ]
  },
  {
   "cell_type": "code",
   "execution_count": 17,
   "metadata": {},
   "outputs": [
    {
     "name": "stdout",
     "output_type": "stream",
     "text": [
      "0\n",
      "1\n",
      "2\n",
      "3\n",
      "4\n",
      "5\n",
      "6\n",
      "7\n",
      "8\n",
      "9\n",
      "10\n",
      "11\n",
      "12\n"
     ]
    },
    {
     "data": {
      "text/plain": [
       "[array([0., 0., 0., 0., 0., 0., 0., 0., 0., 0., 0., 0., 0., 0., 0., 0., 0.,\n",
       "        0., 0., 0., 0., 0., 0., 0., 0., 0., 0., 0., 0., 0., 0., 0., 0., 0.,\n",
       "        0., 0., 0., 0., 0., 0., 0., 0., 0., 0., 0., 0., 0., 0., 0., 0., 0.,\n",
       "        0., 0., 0., 0., 0., 0., 0., 0., 0., 0., 0., 0., 0., 0., 0., 0., 0.,\n",
       "        0., 0., 0., 0., 0., 0., 0., 0., 0., 0., 0., 0., 0., 0., 0., 0., 0.,\n",
       "        0., 0., 0., 0., 0., 0., 0., 0., 0., 0., 0., 0., 0., 0., 0., 0., 0.,\n",
       "        0., 1., 0., 0., 0., 0., 0., 0., 0., 0., 0., 0., 0., 0., 0., 0., 0.,\n",
       "        0., 0., 0., 0., 0., 0., 0., 0., 0., 0., 0., 0., 0., 0., 0., 0., 0.,\n",
       "        0., 0., 0., 0., 0., 0., 0., 0., 0., 0., 0., 0., 0., 0., 0., 0., 0.,\n",
       "        0., 0., 0., 0., 0., 0., 0., 0., 0., 0., 0., 0., 0., 0., 0., 0., 0.,\n",
       "        0., 0., 0., 0., 0., 0., 0., 0., 0., 0., 0., 0., 0., 0., 0., 0., 0.,\n",
       "        0., 0., 0., 0., 0., 0., 0., 0., 0., 0., 0., 0., 0., 0., 0., 0., 0.,\n",
       "        0., 0., 0., 0., 0., 0., 0., 0., 0., 0., 0., 0., 0., 0., 0., 0., 0.,\n",
       "        0., 0., 0., 0., 0., 0., 0., 0., 0., 0., 0., 0., 0., 0., 0., 0., 0.,\n",
       "        0., 0., 0., 1., 0., 0., 0., 0., 0., 0., 0., 0.]),\n",
       " array([0., 0., 0., 0., 0., 0., 0., 0., 0., 0., 0., 0., 0., 0., 0., 0., 0.,\n",
       "        0., 0., 0., 0., 0., 0., 0., 0., 0., 0., 0., 0., 0., 0., 0., 0., 0.,\n",
       "        0., 0., 0., 0., 0., 0., 0., 0., 0., 0., 0., 0., 0., 0., 0., 0., 0.,\n",
       "        0., 0., 0., 0., 0., 0., 0., 0., 0., 0., 0., 0., 0., 0., 0., 0., 0.,\n",
       "        0., 0., 0., 0., 0., 0., 0., 0., 0., 0., 0., 0., 0., 0., 0., 0., 0.,\n",
       "        0., 0., 0., 0., 0., 0., 0., 0., 0., 0., 0., 1., 0., 0., 0., 0., 0.,\n",
       "        0., 0., 0., 0., 0., 0., 0., 0., 0., 0., 0., 0., 0., 0., 0., 0., 0.,\n",
       "        0., 0., 0., 0., 0., 0., 0., 0., 0., 0., 0., 0., 0., 0., 0., 0., 0.,\n",
       "        0., 0., 0., 0., 0., 0., 0., 0., 0., 0., 0., 0., 0., 0., 0., 0., 0.,\n",
       "        0., 0., 0., 0., 0., 0., 0., 0., 0., 0., 0., 0., 0., 0., 0., 0., 0.,\n",
       "        0., 0., 0., 0., 0., 0., 0., 0., 0., 0., 0., 0., 0., 0., 0., 0., 0.,\n",
       "        0., 0., 0., 0., 0., 0., 0., 0., 0., 0., 0., 0., 0., 0., 0., 0., 0.,\n",
       "        0., 0., 0., 0., 0., 0., 0., 0., 0., 0., 0., 0., 0., 0., 0., 0., 0.,\n",
       "        0., 0., 0., 0., 0., 0., 0., 0., 0., 0., 0., 0., 0., 0., 0., 0., 0.,\n",
       "        0., 0., 0., 1., 0., 0., 0., 0., 0., 0., 0., 0.]),\n",
       " array([0., 0., 0., 0., 0., 0., 0., 0., 0., 0., 0., 0., 0., 0., 0., 0., 0.,\n",
       "        0., 0., 0., 0., 0., 0., 0., 0., 0., 0., 0., 0., 0., 0., 0., 0., 0.,\n",
       "        0., 0., 0., 0., 0., 0., 0., 0., 0., 0., 0., 0., 0., 0., 0., 0., 0.,\n",
       "        0., 0., 0., 0., 0., 0., 0., 0., 0., 0., 0., 0., 0., 0., 0., 0., 0.,\n",
       "        0., 0., 0., 0., 0., 0., 0., 0., 0., 0., 0., 0., 0., 0., 0., 0., 0.,\n",
       "        0., 0., 0., 0., 0., 1., 0., 0., 0., 0., 0., 0., 0., 0., 0., 0., 0.,\n",
       "        0., 0., 0., 0., 0., 0., 0., 0., 0., 0., 0., 0., 0., 0., 0., 0., 0.,\n",
       "        0., 0., 0., 0., 0., 0., 0., 0., 0., 0., 0., 0., 0., 0., 0., 0., 0.,\n",
       "        0., 0., 0., 0., 0., 0., 0., 0., 0., 0., 0., 0., 0., 0., 0., 0., 0.,\n",
       "        0., 0., 0., 0., 0., 0., 0., 0., 0., 0., 0., 0., 0., 0., 0., 0., 0.,\n",
       "        0., 0., 0., 0., 0., 0., 0., 0., 0., 0., 0., 0., 0., 0., 0., 0., 0.,\n",
       "        0., 0., 0., 0., 0., 0., 0., 0., 0., 0., 0., 0., 0., 0., 0., 0., 0.,\n",
       "        0., 0., 0., 0., 0., 0., 0., 0., 0., 0., 0., 0., 0., 0., 0., 0., 0.,\n",
       "        0., 0., 0., 0., 0., 0., 0., 0., 0., 0., 0., 0., 0., 0., 0., 0., 0.,\n",
       "        0., 0., 0., 1., 0., 0., 0., 0., 0., 0., 0., 0.]),\n",
       " array([0., 0., 0., 0., 0., 0., 0., 0., 0., 0., 0., 0., 0., 0., 0., 0., 0.,\n",
       "        0., 0., 0., 0., 0., 0., 0., 0., 0., 0., 0., 0., 0., 0., 0., 0., 0.,\n",
       "        0., 0., 0., 0., 0., 0., 0., 0., 0., 0., 0., 0., 0., 0., 0., 0., 0.,\n",
       "        0., 0., 0., 0., 0., 0., 0., 0., 0., 0., 0., 0., 0., 0., 0., 0., 0.,\n",
       "        0., 0., 0., 0., 0., 0., 0., 0., 0., 0., 0., 0., 0., 0., 0., 1., 0.,\n",
       "        0., 0., 0., 0., 0., 0., 0., 0., 0., 0., 0., 0., 0., 0., 0., 0., 0.,\n",
       "        0., 0., 0., 0., 0., 0., 0., 0., 0., 0., 0., 0., 0., 0., 0., 0., 0.,\n",
       "        0., 0., 0., 0., 0., 0., 0., 0., 0., 0., 0., 0., 0., 0., 0., 0., 0.,\n",
       "        0., 0., 0., 0., 0., 0., 0., 0., 0., 0., 0., 0., 0., 0., 0., 0., 0.,\n",
       "        0., 0., 0., 0., 0., 0., 0., 0., 0., 0., 0., 0., 0., 0., 0., 0., 0.,\n",
       "        0., 0., 0., 0., 0., 0., 0., 0., 0., 0., 0., 0., 0., 0., 0., 0., 0.,\n",
       "        0., 0., 0., 0., 0., 0., 0., 0., 0., 0., 0., 0., 0., 0., 0., 0., 0.,\n",
       "        0., 0., 0., 0., 0., 0., 0., 0., 0., 0., 0., 0., 0., 0., 0., 0., 0.,\n",
       "        0., 0., 0., 0., 0., 0., 0., 0., 0., 0., 0., 0., 0., 0., 0., 0., 0.,\n",
       "        0., 0., 0., 1., 0., 0., 0., 0., 0., 0., 0., 0.]),\n",
       " array([0., 0., 0., 0., 0., 0., 0., 0., 0., 0., 0., 0., 0., 0., 0., 0., 0.,\n",
       "        0., 0., 0., 0., 0., 0., 0., 0., 0., 0., 0., 0., 0., 0., 0., 0., 0.,\n",
       "        0., 0., 0., 0., 0., 0., 0., 0., 0., 0., 0., 0., 0., 0., 0., 0., 0.,\n",
       "        0., 0., 0., 0., 0., 0., 0., 0., 0., 0., 0., 0., 0., 0., 0., 0., 0.,\n",
       "        0., 0., 0., 0., 1., 0., 0., 0., 0., 0., 0., 0., 0., 0., 0., 0., 0.,\n",
       "        0., 0., 0., 0., 0., 0., 0., 0., 0., 0., 0., 0., 0., 0., 0., 0., 0.,\n",
       "        0., 0., 0., 0., 0., 0., 0., 0., 0., 0., 0., 0., 0., 0., 0., 0., 0.,\n",
       "        0., 0., 0., 0., 0., 0., 0., 0., 0., 0., 0., 0., 0., 0., 0., 0., 0.,\n",
       "        0., 0., 0., 0., 0., 0., 0., 0., 0., 0., 0., 0., 0., 0., 0., 0., 0.,\n",
       "        0., 0., 0., 0., 0., 0., 0., 0., 0., 0., 0., 0., 0., 0., 0., 0., 0.,\n",
       "        0., 0., 0., 0., 0., 0., 0., 0., 0., 0., 0., 0., 0., 0., 0., 0., 0.,\n",
       "        0., 0., 0., 0., 0., 0., 0., 0., 0., 0., 0., 0., 0., 0., 0., 0., 0.,\n",
       "        0., 0., 0., 0., 0., 0., 0., 0., 0., 0., 0., 0., 0., 0., 0., 0., 0.,\n",
       "        0., 0., 0., 0., 0., 0., 0., 0., 0., 0., 0., 0., 0., 0., 0., 0., 0.,\n",
       "        0., 0., 0., 1., 0., 0., 0., 0., 0., 0., 0., 0.]),\n",
       " array([0., 0., 0., 0., 0., 0., 0., 0., 0., 0., 0., 0., 0., 0., 0., 0., 0.,\n",
       "        0., 0., 0., 0., 0., 0., 0., 0., 0., 0., 0., 0., 0., 0., 0., 0., 0.,\n",
       "        0., 0., 0., 0., 0., 0., 0., 0., 0., 0., 0., 0., 0., 0., 0., 0., 0.,\n",
       "        0., 0., 0., 0., 0., 0., 0., 0., 0., 0., 0., 0., 0., 0., 1., 0., 0.,\n",
       "        0., 0., 0., 0., 0., 0., 0., 0., 0., 0., 0., 0., 0., 0., 0., 0., 0.,\n",
       "        0., 0., 0., 0., 0., 0., 0., 0., 0., 0., 0., 0., 0., 0., 0., 0., 0.,\n",
       "        0., 0., 0., 0., 0., 0., 0., 0., 0., 0., 0., 0., 0., 0., 0., 0., 0.,\n",
       "        0., 0., 0., 0., 0., 0., 0., 0., 0., 0., 0., 0., 0., 0., 0., 0., 0.,\n",
       "        0., 0., 0., 0., 0., 0., 0., 0., 0., 0., 0., 0., 0., 0., 0., 0., 0.,\n",
       "        0., 0., 0., 0., 0., 0., 0., 0., 0., 0., 0., 0., 0., 0., 0., 0., 0.,\n",
       "        0., 0., 0., 0., 0., 0., 0., 0., 0., 0., 0., 0., 0., 0., 0., 0., 0.,\n",
       "        0., 0., 0., 0., 0., 0., 0., 0., 0., 0., 0., 0., 0., 0., 0., 0., 0.,\n",
       "        0., 0., 0., 0., 0., 0., 0., 0., 0., 0., 0., 0., 0., 0., 0., 0., 0.,\n",
       "        0., 0., 0., 0., 0., 0., 0., 0., 0., 0., 0., 0., 0., 0., 0., 0., 0.,\n",
       "        0., 0., 0., 1., 0., 0., 0., 0., 0., 0., 0., 0.]),\n",
       " array([0., 0., 0., 0., 0., 0., 0., 0., 0., 0., 0., 0., 0., 0., 0., 0., 0.,\n",
       "        0., 0., 0., 0., 0., 0., 0., 0., 0., 0., 0., 0., 0., 0., 0., 0., 0.,\n",
       "        0., 0., 0., 0., 0., 0., 0., 0., 0., 0., 0., 0., 0., 0., 0., 0., 0.,\n",
       "        0., 0., 0., 0., 0., 0., 1., 0., 0., 0., 0., 0., 0., 0., 0., 0., 0.,\n",
       "        0., 0., 0., 0., 0., 0., 0., 0., 0., 0., 0., 0., 0., 0., 0., 0., 0.,\n",
       "        0., 0., 0., 0., 0., 0., 0., 0., 0., 0., 0., 0., 0., 0., 0., 0., 0.,\n",
       "        0., 0., 0., 0., 0., 0., 0., 0., 0., 0., 0., 0., 0., 0., 0., 0., 0.,\n",
       "        0., 0., 0., 0., 0., 0., 0., 0., 0., 0., 0., 0., 0., 0., 0., 0., 0.,\n",
       "        0., 0., 0., 0., 0., 0., 0., 0., 0., 0., 0., 0., 0., 0., 0., 0., 0.,\n",
       "        0., 0., 0., 0., 0., 0., 0., 0., 0., 0., 0., 0., 0., 0., 0., 0., 0.,\n",
       "        0., 0., 0., 0., 0., 0., 0., 0., 0., 0., 0., 0., 0., 0., 0., 0., 0.,\n",
       "        0., 0., 0., 0., 0., 0., 0., 0., 0., 0., 0., 0., 0., 0., 0., 0., 0.,\n",
       "        0., 0., 0., 0., 0., 0., 0., 0., 0., 0., 0., 0., 0., 0., 0., 0., 0.,\n",
       "        0., 0., 0., 0., 0., 0., 0., 0., 0., 0., 0., 0., 0., 0., 0., 0., 0.,\n",
       "        0., 0., 0., 1., 0., 0., 0., 0., 0., 0., 0., 0.]),\n",
       " array([0., 0., 0., 0., 0., 0., 0., 0., 0., 0., 0., 0., 0., 0., 0., 0., 0.,\n",
       "        0., 0., 0., 0., 0., 0., 0., 0., 0., 0., 0., 0., 0., 0., 0., 0., 0.,\n",
       "        0., 0., 0., 0., 0., 0., 0., 0., 0., 0., 0., 0., 0., 0., 1., 0., 0.,\n",
       "        0., 0., 0., 0., 0., 0., 0., 0., 0., 0., 0., 0., 0., 0., 0., 0., 0.,\n",
       "        0., 0., 0., 0., 0., 0., 0., 0., 0., 0., 0., 0., 0., 0., 0., 0., 0.,\n",
       "        0., 0., 0., 0., 0., 0., 0., 0., 0., 0., 0., 0., 0., 0., 0., 0., 0.,\n",
       "        0., 0., 0., 0., 0., 0., 0., 0., 0., 0., 0., 0., 0., 0., 0., 0., 0.,\n",
       "        0., 0., 0., 0., 0., 0., 0., 0., 0., 0., 0., 0., 0., 0., 0., 0., 0.,\n",
       "        0., 0., 0., 0., 0., 0., 0., 0., 0., 0., 0., 0., 0., 0., 0., 0., 0.,\n",
       "        0., 0., 0., 0., 0., 0., 0., 0., 0., 0., 0., 0., 0., 0., 0., 0., 0.,\n",
       "        0., 0., 0., 0., 0., 0., 0., 0., 0., 0., 0., 0., 0., 0., 0., 0., 0.,\n",
       "        0., 0., 0., 0., 0., 0., 0., 0., 0., 0., 0., 0., 0., 0., 0., 0., 0.,\n",
       "        0., 0., 0., 0., 0., 0., 0., 0., 0., 0., 0., 0., 0., 0., 0., 0., 0.,\n",
       "        0., 0., 0., 0., 0., 0., 0., 0., 0., 0., 0., 0., 0., 0., 0., 0., 0.,\n",
       "        0., 0., 0., 1., 0., 0., 0., 0., 0., 0., 0., 0.]),\n",
       " array([0., 0., 0., 0., 0., 0., 0., 0., 0., 0., 0., 0., 0., 0., 0., 0., 0.,\n",
       "        0., 0., 0., 0., 0., 0., 0., 0., 0., 0., 0., 0., 0., 0., 0., 0., 0.,\n",
       "        0., 0., 0., 0., 1., 0., 0., 0., 0., 0., 0., 0., 0., 0., 0., 0., 0.,\n",
       "        0., 0., 0., 0., 0., 0., 0., 0., 0., 0., 0., 0., 0., 0., 0., 0., 0.,\n",
       "        0., 0., 0., 0., 0., 0., 0., 0., 0., 0., 0., 0., 0., 0., 0., 0., 0.,\n",
       "        0., 0., 0., 0., 0., 0., 0., 0., 0., 0., 0., 0., 0., 0., 0., 0., 0.,\n",
       "        0., 0., 0., 0., 0., 0., 0., 0., 0., 0., 0., 0., 0., 0., 0., 0., 0.,\n",
       "        0., 0., 0., 0., 0., 0., 0., 0., 0., 0., 0., 0., 0., 0., 0., 0., 0.,\n",
       "        0., 0., 0., 0., 0., 0., 0., 0., 0., 0., 0., 0., 0., 0., 0., 0., 0.,\n",
       "        0., 0., 0., 0., 0., 0., 0., 0., 0., 0., 0., 0., 0., 0., 0., 0., 0.,\n",
       "        0., 0., 0., 0., 0., 0., 0., 0., 0., 0., 0., 0., 0., 0., 0., 0., 0.,\n",
       "        0., 0., 0., 0., 0., 0., 0., 0., 0., 0., 0., 0., 0., 0., 0., 0., 0.,\n",
       "        0., 0., 0., 0., 0., 0., 0., 0., 0., 0., 0., 0., 0., 0., 0., 0., 0.,\n",
       "        0., 0., 0., 0., 0., 0., 0., 0., 0., 0., 0., 0., 0., 0., 0., 0., 0.,\n",
       "        0., 0., 0., 1., 0., 0., 0., 0., 0., 0., 0., 0.]),\n",
       " array([0., 0., 0., 0., 0., 0., 0., 0., 0., 0., 0., 0., 0., 0., 0., 0., 0.,\n",
       "        0., 0., 0., 0., 0., 0., 0., 0., 0., 0., 0., 0., 0., 1., 0., 0., 0.,\n",
       "        0., 0., 0., 0., 0., 0., 0., 0., 0., 0., 0., 0., 0., 0., 0., 0., 0.,\n",
       "        0., 0., 0., 0., 0., 0., 0., 0., 0., 0., 0., 0., 0., 0., 0., 0., 0.,\n",
       "        0., 0., 0., 0., 0., 0., 0., 0., 0., 0., 0., 0., 0., 0., 0., 0., 0.,\n",
       "        0., 0., 0., 0., 0., 0., 0., 0., 0., 0., 0., 0., 0., 0., 0., 0., 0.,\n",
       "        0., 0., 0., 0., 0., 0., 0., 0., 0., 0., 0., 0., 0., 0., 0., 0., 0.,\n",
       "        0., 0., 0., 0., 0., 0., 0., 0., 0., 0., 0., 0., 0., 0., 0., 0., 0.,\n",
       "        0., 0., 0., 0., 0., 0., 0., 0., 0., 0., 0., 0., 0., 0., 0., 0., 0.,\n",
       "        0., 0., 0., 0., 0., 0., 0., 0., 0., 0., 0., 0., 0., 0., 0., 0., 0.,\n",
       "        0., 0., 0., 0., 0., 0., 0., 0., 0., 0., 0., 0., 0., 0., 0., 0., 0.,\n",
       "        0., 0., 0., 0., 0., 0., 0., 0., 0., 0., 0., 0., 0., 0., 0., 0., 0.,\n",
       "        0., 0., 0., 0., 0., 0., 0., 0., 0., 0., 0., 0., 0., 0., 0., 0., 0.,\n",
       "        0., 0., 0., 0., 0., 0., 0., 0., 0., 0., 0., 0., 0., 0., 0., 0., 0.,\n",
       "        0., 0., 0., 1., 0., 0., 0., 0., 0., 0., 0., 0.]),\n",
       " array([0., 0., 0., 0., 0., 0., 0., 0., 0., 0., 0., 0., 0., 0., 0., 0., 0.,\n",
       "        0., 0., 1., 0., 0., 0., 0., 0., 0., 0., 0., 0., 0., 0., 0., 0., 0.,\n",
       "        0., 0., 0., 0., 0., 0., 0., 0., 0., 0., 0., 0., 0., 0., 0., 0., 0.,\n",
       "        0., 0., 0., 0., 0., 0., 0., 0., 0., 0., 0., 0., 0., 0., 0., 0., 0.,\n",
       "        0., 0., 0., 0., 0., 0., 0., 0., 0., 0., 0., 0., 0., 0., 0., 0., 0.,\n",
       "        0., 0., 0., 0., 0., 0., 0., 0., 0., 0., 0., 0., 0., 0., 0., 0., 0.,\n",
       "        0., 0., 0., 0., 0., 0., 0., 0., 0., 0., 0., 0., 0., 0., 0., 0., 0.,\n",
       "        0., 0., 0., 0., 0., 0., 0., 0., 0., 0., 0., 0., 0., 0., 0., 0., 0.,\n",
       "        0., 0., 0., 0., 0., 0., 0., 0., 0., 0., 0., 0., 0., 0., 0., 0., 0.,\n",
       "        0., 0., 0., 0., 0., 0., 0., 0., 0., 0., 0., 0., 0., 0., 0., 0., 0.,\n",
       "        0., 0., 0., 0., 0., 0., 0., 0., 0., 0., 0., 0., 0., 0., 0., 0., 0.,\n",
       "        0., 0., 0., 0., 0., 0., 0., 0., 0., 0., 0., 0., 0., 0., 0., 0., 0.,\n",
       "        0., 0., 0., 0., 0., 0., 0., 0., 0., 0., 0., 0., 0., 0., 0., 0., 0.,\n",
       "        0., 0., 0., 0., 0., 0., 0., 0., 0., 0., 0., 0., 0., 0., 0., 0., 0.,\n",
       "        0., 0., 0., 1., 0., 0., 0., 0., 0., 0., 0., 0.]),\n",
       " array([0., 0., 0., 0., 0., 0., 0., 0., 0., 0., 0., 0., 1., 0., 0., 0., 0.,\n",
       "        0., 0., 0., 0., 0., 0., 0., 0., 0., 0., 0., 0., 0., 0., 0., 0., 0.,\n",
       "        0., 0., 0., 0., 0., 0., 0., 0., 0., 0., 0., 0., 0., 0., 0., 0., 0.,\n",
       "        0., 0., 0., 0., 0., 0., 0., 0., 0., 0., 0., 0., 0., 0., 0., 0., 0.,\n",
       "        0., 0., 0., 0., 0., 0., 0., 0., 0., 0., 0., 0., 0., 0., 0., 0., 0.,\n",
       "        0., 0., 0., 0., 0., 0., 0., 0., 0., 0., 0., 0., 0., 0., 0., 0., 0.,\n",
       "        0., 0., 0., 0., 0., 0., 0., 0., 0., 0., 0., 0., 0., 0., 0., 0., 0.,\n",
       "        0., 0., 0., 0., 0., 0., 0., 0., 0., 0., 0., 0., 0., 0., 0., 0., 0.,\n",
       "        0., 0., 0., 0., 0., 0., 0., 0., 0., 0., 0., 0., 0., 0., 0., 0., 0.,\n",
       "        0., 0., 0., 0., 0., 0., 0., 0., 0., 0., 0., 0., 0., 0., 0., 0., 0.,\n",
       "        0., 0., 0., 0., 0., 0., 0., 0., 0., 0., 0., 0., 0., 0., 0., 0., 0.,\n",
       "        0., 0., 0., 0., 0., 0., 0., 0., 0., 0., 0., 0., 0., 0., 0., 0., 0.,\n",
       "        0., 0., 0., 0., 0., 0., 0., 0., 0., 0., 0., 0., 0., 0., 0., 0., 0.,\n",
       "        0., 0., 0., 0., 0., 0., 0., 0., 0., 0., 0., 0., 0., 0., 0., 0., 0.,\n",
       "        0., 0., 0., 1., 0., 0., 0., 0., 0., 0., 0., 0.]),\n",
       " array([0., 0., 1., 0., 0., 0., 0., 0., 0., 0., 0., 0., 0., 0., 0., 0., 0.,\n",
       "        0., 0., 0., 0., 0., 0., 0., 0., 0., 0., 0., 0., 0., 0., 0., 0., 0.,\n",
       "        0., 0., 0., 0., 0., 0., 0., 0., 0., 0., 0., 0., 0., 0., 0., 0., 0.,\n",
       "        0., 0., 0., 0., 0., 0., 0., 0., 0., 0., 0., 0., 0., 0., 0., 0., 0.,\n",
       "        0., 0., 0., 0., 0., 0., 0., 0., 0., 0., 0., 0., 0., 0., 0., 0., 0.,\n",
       "        0., 0., 0., 0., 0., 0., 0., 0., 0., 0., 0., 0., 0., 0., 0., 0., 0.,\n",
       "        0., 0., 0., 0., 0., 0., 0., 0., 0., 0., 0., 0., 0., 0., 0., 0., 0.,\n",
       "        0., 0., 0., 0., 0., 0., 0., 0., 0., 0., 0., 0., 0., 0., 0., 0., 0.,\n",
       "        0., 0., 0., 0., 0., 0., 0., 0., 0., 0., 0., 0., 0., 0., 0., 0., 0.,\n",
       "        0., 0., 0., 0., 0., 0., 0., 0., 0., 0., 0., 0., 0., 0., 0., 0., 0.,\n",
       "        0., 0., 0., 0., 0., 0., 0., 0., 0., 0., 0., 0., 0., 0., 0., 0., 0.,\n",
       "        0., 0., 0., 0., 0., 0., 0., 0., 0., 0., 0., 0., 0., 0., 0., 0., 0.,\n",
       "        0., 0., 0., 0., 0., 0., 0., 0., 0., 0., 0., 0., 0., 0., 0., 0., 0.,\n",
       "        0., 0., 0., 0., 0., 0., 0., 0., 0., 0., 0., 0., 0., 0., 0., 0., 0.,\n",
       "        0., 0., 0., 1., 0., 0., 0., 0., 0., 0., 0., 0.])]"
      ]
     },
     "execution_count": 17,
     "metadata": {},
     "output_type": "execute_result"
    }
   ],
   "source": [
    "savedmodel=Prediction()\n",
    "savedmodel.predict(overall_concat,pdb)"
   ]
  },
  {
   "cell_type": "code",
   "execution_count": 18,
   "metadata": {},
   "outputs": [
    {
     "name": "stdout",
     "output_type": "stream",
     "text": [
      "PROTEIN REPRESENTATION BEFORE INTERACTION: \n",
      "QT\u001b[1;31mD\u001b[0mVIAQRKAIL\u001b[1;31mK\u001b[0mQMGEAT\u001b[1;31mK\u001b[0mPIAAMLKGEA\u001b[1;31mK\u001b[0mFDQAVVQ\u001b[1;31mK\u001b[0mSLAAIADDS\u001b[1;31mK\u001b[0mKLPALFPA\u001b[1;31mD\u001b[0mSKTGGDT\u001b[1;31mA\u001b[0mALPKIW\u001b[1;31mE\u001b[0mDKAKFDDLFA\u001b[1;31mK\u001b[0mLAAAAT\u001b[1;31mA\u001b[0mAQGTI\u001b[1;31mK\u001b[0mDEASLK\u001b[1;31mA\u001b[0mNIGGVLGNCKSCHDDFRAKKS\n",
      "PROTEIN REPRESENTATION AFTER INTERACTION: \n",
      "QT\u001b[1;32mH\u001b[0mVIAQRKAIL\u001b[1;32mH\u001b[0mQMGEAT\u001b[1;32mH\u001b[0mPIAAMLKGEA\u001b[1;32mH\u001b[0mFDQAVVQ\u001b[1;32mH\u001b[0mSLAAIADDS\u001b[1;32mH\u001b[0mKLPALFPA\u001b[1;32mH\u001b[0mSKTGGDT\u001b[1;32mH\u001b[0mALPKIW\u001b[1;32mH\u001b[0mDKAKFDDLFA\u001b[1;32mH\u001b[0mLAAAAT\u001b[1;32mH\u001b[0mAQGTI\u001b[1;32mH\u001b[0mDEASLK\u001b[1;32mH\u001b[0mNIGGVLGNCKSCHDDFRAKKS\n"
     ]
    }
   ],
   "source": [
    "res_num=[]\n",
    "for i in range(len(m)):\n",
    "    s=\"\"\n",
    "    for j in range(len(var_list[0][i])):\n",
    "        if(var_list[0][i][j].isdigit()):\n",
    "            s=s+var_list[0][i][j]\n",
    "        if(j!=0 and var_list[0][i][j].isalpha()):\n",
    "            break\n",
    "    res_num.append(int(s))\n",
    "# print(res_num)\n",
    "original_sequence=seq\n",
    "highlighted_original_sequence = list(seq)\n",
    "highlighted_changed_sequence = list(seq)\n",
    "# print(seq[101])\n",
    "for i,ind in enumerate(res_num):\n",
    "    for j in range(len(var_list[0][i])):\n",
    "        if(j!=0 and var_list[0][i][j].isalpha()):\n",
    "            changed_seq=original_sequence[:ind-1] + var_list[0][i][j] + original_sequence[ind:]\n",
    "            original_sequence=changed_seq\n",
    "            break\n",
    "for idx in res_num:\n",
    "    if idx-1 < len(changed_seq):\n",
    "        highlighted_changed_sequence[idx-1] = '\\033[1;32m' + changed_seq[idx-1] + '\\033[0m'  # Bold green color\n",
    "\n",
    "for idx in res_num:\n",
    "    if idx-1 < len(seq):\n",
    "        highlighted_original_sequence[idx-1] = '\\033[1;31m' + seq[idx-1] + '\\033[0m'  # Bold red color\n",
    "\n",
    "highlighted_changed_sequence = ''.join(highlighted_changed_sequence)\n",
    "highlighted_original_sequence = ''.join(highlighted_original_sequence)\n",
    "\n",
    "print(\"PROTEIN REPRESENTATION BEFORE INTERACTION: \")\n",
    "print(highlighted_original_sequence)\n",
    "print(\"PROTEIN REPRESENTATION AFTER INTERACTION: \")\n",
    "print(highlighted_changed_sequence)\n",
    "# print(changed_seq)"
   ]
  },
  {
   "cell_type": "code",
   "execution_count": 19,
   "metadata": {},
   "outputs": [
    {
     "name": "stdout",
     "output_type": "stream",
     "text": [
      "Possible mutations:\n",
      "Aspartic Acid(D) at position 3 is Changed to Histidine(H)\n",
      "Lysine(K) at position 13 is Changed to Histidine(H)\n",
      "Lysine(K) at position 20 is Changed to Histidine(H)\n",
      "Lysine(K) at position 31 is Changed to Histidine(H)\n",
      "Lysine(K) at position 39 is Changed to Histidine(H)\n",
      "Lysine(K) at position 49 is Changed to Histidine(H)\n",
      "Aspartic Acid(D) at position 58 is Changed to Histidine(H)\n",
      "Alanine(A) at position 66 is Changed to Histidine(H)\n",
      "Glutamic Acid(E) at position 73 is Changed to Histidine(H)\n",
      "Lysine(K) at position 84 is Changed to Histidine(H)\n",
      "Alanine(A) at position 91 is Changed to Histidine(H)\n",
      "Lysine(K) at position 97 is Changed to Histidine(H)\n",
      "Alanine(A) at position 104 is Changed to Histidine(H)\n"
     ]
    }
   ],
   "source": [
    "amino_acids = {\n",
    "    \"A\": \"Alanine\",\n",
    "    \"R\": \"Arginine\",\n",
    "    \"N\": \"Asparagine\",\n",
    "    \"D\": \"Aspartic Acid\",\n",
    "    \"C\": \"Cysteine\",\n",
    "    \"E\": \"Glutamic Acid\",\n",
    "    \"Q\": \"Glutamine\",\n",
    "    \"G\": \"Glycine\",\n",
    "    \"H\": \"Histidine\",\n",
    "    \"I\": \"Isoleucine\",\n",
    "    \"L\": \"Leucine\",\n",
    "    \"K\": \"Lysine\",\n",
    "    \"M\": \"Methionine\",\n",
    "    \"F\": \"Phenylalanine\",\n",
    "    \"P\": \"Proline\",\n",
    "    \"S\": \"Serine\",\n",
    "    \"T\": \"Threonine\",\n",
    "    \"W\": \"Tryptophan\",\n",
    "    \"Y\": \"Tyrosine\",\n",
    "    \"V\": \"Valine\",\n",
    "}\n",
    "\n",
    "print(\"Possible mutations:\")\n",
    "for i in range(0,len(changed_seq)):\n",
    "    if(changed_seq[i]!=seq[i]):\n",
    "        print(amino_acids[seq[i]] +\"(\"+ seq[i]+\")\"+ \" at position \"+str(i+1)+\" is Changed to \" + amino_acids[changed_seq[i]]+\"(\"+changed_seq[i]+\")\")"
   ]
  },
  {
   "cell_type": "code",
   "execution_count": 20,
   "metadata": {},
   "outputs": [
    {
     "name": "stderr",
     "output_type": "stream",
     "text": [
      "c:\\Users\\sasin\\anaconda3\\Lib\\site-packages\\tensorflow_addons\\utils\\tfa_eol_msg.py:23: UserWarning: \n",
      "\n",
      "TensorFlow Addons (TFA) has ended development and introduction of new features.\n",
      "TFA has entered a minimal maintenance and release mode until a planned end of life in May 2024.\n",
      "Please modify downstream libraries to take dependencies from other repositories in our TensorFlow community (e.g. Keras, Keras-CV, and Keras-NLP). \n",
      "\n",
      "For more information see: https://github.com/tensorflow/addons/issues/2807 \n",
      "\n",
      "  warnings.warn(\n"
     ]
    }
   ],
   "source": [
    "from BR.model.hots import *\n",
    "from BR.Feature_Extraction.build_features import *"
   ]
  },
  {
   "cell_type": "code",
   "execution_count": 21,
   "metadata": {},
   "outputs": [],
   "source": [
    "# define input feature\n",
    "prot_vec = \"Sequence\"\n",
    "drug_vec = \"Morgan\"\n",
    "drug_len = 2048\n",
    "radius = 2\n",
    "protein_encoder = ProteinEncoder(prot_vec)\n",
    "compound_encoder = CompoundEncoder(drug_vec, radius=radius, n_bits=drug_len)"
   ]
  },
  {
   "cell_type": "code",
   "execution_count": 22,
   "metadata": {},
   "outputs": [],
   "source": [
    "import os\n",
    "os.environ[\"CUDA_DEVICE_ORDER\"] = \"PCI_BUS_ID\"   # see issue #152\n",
    "os.environ[\"CUDA_VISIBLE_DEVICES\"] = \"0\"\n",
    "os.environ[\"TF_ENABLE_ONEDNN_OPTS\"]=\"0\""
   ]
  },
  {
   "cell_type": "code",
   "execution_count": 23,
   "metadata": {},
   "outputs": [
    {
     "name": "stdout",
     "output_type": "stream",
     "text": [
      "Hots model initialization done!\n"
     ]
    }
   ],
   "source": [
    "br_model = HoTS()"
   ]
  },
  {
   "cell_type": "code",
   "execution_count": 24,
   "metadata": {},
   "outputs": [
    {
     "name": "stdout",
     "output_type": "stream",
     "text": [
      "Given hyperparamters in ./Model/Model_config.json are loaded\n",
      "\n",
      "protein_grid_size   :  10\n",
      "compound_grid_size  :  None\n",
      "anchors             :  [9]\n",
      "hots_dimension      :  128\n",
      "hots_n_heads        :  4\n",
      "dropout             :  0.1\n",
      "drug_layers         :  [512, 128]\n",
      "protein_strides     :  [5, 10, 15, 20, 25, 30]\n",
      "filters             :  128\n",
      "fc_layers           :  [256, 64]\n",
      "hots_fc_layers      :  [256, 64]\n",
      "learning_rate       :  0.0001\n",
      "prot_vec            :  Sequence\n",
      "drug_vec            :  Morgan\n",
      "drug_len            :  2048\n",
      "activation          :  gelu\n",
      "protein_layers      :  [128, 128, 128, 128]\n",
      "reg_loss_weight     :  0.1\n",
      "conf_loss_weight    :  1\n",
      "negative_loss_weight:  0.1\n",
      "retina_loss_weight  :  2\n",
      "decay               :  0.0001\n",
      "hots_file           :  ./Model/HoTS.h5\n",
      "dti_file            :  ./Model/DTI.h5\n",
      "hots_validation_results:  {}\n",
      "dti_validation_results:  {}\n",
      "n_stack_hots_prediction:  2\n",
      "protein_encoder_config:  {'feature': 'Sequence'}\n",
      "compound_encoder_config:  {'radius': 2, 'feature': 'Morgan', 'n_bits': 2048, 'n_compound_word': 65}\n",
      " \n",
      "\tHoTS Model is loaded from ./Model/HoTS.h5\n",
      "\tDTI Model is loaded from ./Model/DTI.h5\n"
     ]
    }
   ],
   "source": [
    "br_model.load_model(\"./Model/Model_config.json\")"
   ]
  },
  {
   "cell_type": "code",
   "execution_count": 25,
   "metadata": {},
   "outputs": [],
   "source": [
    "import urllib\n",
    "uniprot_url = \"https://www.uniprot.org/uniprot/{0}.fasta\"\n",
    "from Bio import Entrez\n",
    "\n",
    "def get_smiles_from_cid(cid):\n",
    "    return urllib.request.urlopen(\"https://pubchem.ncbi.nlm.nih.gov/rest/pug/compound/cid/%d/property/CanonicalSMILES/txt\"%cid).read().decode(\"utf-8\").strip()\n",
    " \n",
    "def get_seq_from_uniprot_acc(uniprot_acc):\n",
    "    opened = urllib.request.urlopen(uniprot_url.format(uniprot_acc))\n",
    "    lines = opened.readlines()\n",
    "    return \"\".join([line.decode(\"utf-8\").rstrip() for line in lines[1:]])"
   ]
  },
  {
   "cell_type": "code",
   "execution_count": 26,
   "metadata": {},
   "outputs": [
    {
     "name": "stdout",
     "output_type": "stream",
     "text": [
      "Chemical Name: 3-[18-(2-carboxyethyl)-7,12-bis(ethenyl)-3,8,13,17-tetramethylporphyrin-21,23-diid-2-yl]propanoic acid;iron(2+)\n",
      "Brand Names: ['heme', 'protoheme', 'Haem', 'protoheme IX', 'heme b', 'Ferroprotoporphyrin IX', '(protoporphyrinato)iron', 'protoporphyrin ix containing fe', 'haem b', '14875-96-8', 'SCHEMBL4009', 'CHEBI:26355', 'BDBM231645', '14875-96-8y', 'Q27093551', '(7,12-diethenyl-3,8,13,17-tetramethylporphyrin-2,18-dipropanoato)iron', '[3,7,12,17-tetramethyl-8,13-divinylporphyrin-2,18-dipropanoato(2-)]iron']\n",
      "Visualization of Drug structure:\n"
     ]
    },
    {
     "data": {
      "image/png": "[encoded data removed]",
      "text/plain": [
       "<IPython.core.display.Image object>"
      ]
     },
     "metadata": {},
     "output_type": "display_data"
    }
   ],
   "source": [
    "import urllib.request\n",
    "from IPython.display import Image, display\n",
    "\n",
    "def get_2d_image_url(cid):\n",
    "    base_url = \"https://pubchem.ncbi.nlm.nih.gov/rest/pug/compound/cid/{}/PNG\"\n",
    "    url = base_url.format(cid)\n",
    "    return url\n",
    "\n",
    "def display_2d_image(cid):\n",
    "    image_url = get_2d_image_url(cid)\n",
    "    image = Image(urllib.request.urlopen(image_url).read())\n",
    "    display(image)\n",
    "\n",
    "def get_chemical_name(cid):\n",
    "    url = \"https://pubchem.ncbi.nlm.nih.gov/rest/pug/compound/cid/{}/property/IUPACName/txt\".format(cid)\n",
    "    response = urllib.request.urlopen(url)\n",
    "    chemical_name = response.read().decode(\"utf-8\").strip()\n",
    "    return chemical_name\n",
    "\n",
    "def get_synonyms(cid):\n",
    "    url = \"https://pubchem.ncbi.nlm.nih.gov/rest/pug/compound/cid/{}/synonyms/TXT\".format(cid)\n",
    "    response = urllib.request.urlopen(url)\n",
    "    synonyms = response.read().decode(\"utf-8\").strip().split(\"\\n\")\n",
    "    return synonyms\n",
    "\n",
    "# Example usage\n",
    "cid = 4973        # Example CID\n",
    "chemical_name = get_chemical_name(cid)\n",
    "print(\"Chemical Name:\", chemical_name)\n",
    "synonyms = get_synonyms(cid)\n",
    "print(\"Brand Names:\", synonyms)\n",
    "print(\"Visualization of Drug structure:\")\n",
    "display_2d_image(cid)"
   ]
  },
  {
   "cell_type": "code",
   "execution_count": 27,
   "metadata": {},
   "outputs": [],
   "source": [
    "drugs = [\"Cc1c2n3c(c1CCC(=O)O)C=C4C(=C(C5=[n]4[Fe]36[n]7=C(C=C8N6C(=C5)C(=C8C)C=C)C(=C(C7=C2)C)C=C)C)CCC(=O)O\",\"Cc1c2n3c(c1CCC(=O)O)C=C4C(=C(C5=[n]4[Fe]36[n]7=C(C=C8N6C(=C5)C(=C8C)C=C)C(=C(C7=C2)C)C=C)C)CCC(=O)O\"]"
   ]
  },
  {
   "cell_type": "code",
   "execution_count": 28,
   "metadata": {},
   "outputs": [],
   "source": [
    "targets=[seq,changed_seq]"
   ]
  },
  {
   "cell_type": "code",
   "execution_count": 29,
   "metadata": {},
   "outputs": [],
   "source": [
    "drugs_fp = [compound_encoder.encode(drug) for drug in drugs]\n",
    "targets_encoded = [protein_encoder.encode(target) for target in targets]"
   ]
  },
  {
   "cell_type": "code",
   "execution_count": 30,
   "metadata": {},
   "outputs": [
    {
     "name": "stdout",
     "output_type": "stream",
     "text": [
      "[[10, 13, 14, 4, 2, 1, 10, 16, 18, 1, 2, 3, 18, 10, 11, 19, 15, 1, 13, 18, 20, 2, 1, 1, 11, 3, 18, 19, 15, 1, 18, 5, 14, 10, 1, 4, 4, 10, 18, 12, 3, 1, 1, 2, 1, 14, 14, 12, 18, 18, 3, 20, 1, 3, 5, 20, 1, 14, 12, 18, 13, 19, 19, 14, 13, 1, 1, 3, 20, 18, 2, 6, 15, 14, 18, 1, 18, 5, 14, 14, 3, 5, 1, 18, 3, 1, 1, 1, 1, 13, 1, 1, 10, 19, 13, 2, 18, 14, 15, 1, 12, 3, 18, 1, 8, 2, 19, 19, 4, 3, 19, 8, 9, 18, 12, 9, 17, 14, 14, 5, 16, 1, 18, 18, 12], [10, 13, 17, 4, 2, 1, 10, 16, 18, 1, 2, 3, 17, 10, 11, 19, 15, 1, 13, 17, 20, 2, 1, 1, 11, 3, 18, 19, 15, 1, 17, 5, 14, 10, 1, 4, 4, 10, 17, 12, 3, 1, 1, 2, 1, 14, 14, 12, 17, 18, 3, 20, 1, 3, 5, 20, 1, 17, 12, 18, 13, 19, 19, 14, 13, 17, 1, 3, 20, 18, 2, 6, 17, 14, 18, 1, 18, 5, 14, 14, 3, 5, 1, 17, 3, 1, 1, 1, 1, 13, 17, 1, 10, 19, 13, 2, 17, 14, 15, 1, 12, 3, 18, 17, 8, 2, 19, 19, 4, 3, 19, 8, 9, 18, 12, 9, 17, 14, 14, 5, 16, 1, 18, 18, 12]]\n"
     ]
    }
   ],
   "source": [
    "print((targets_encoded))"
   ]
  },
  {
   "cell_type": "code",
   "execution_count": 31,
   "metadata": {},
   "outputs": [],
   "source": [
    "protein_encoder = ProteinEncoder(prot_vec)\n",
    "target_encoded = protein_encoder.pad(targets_encoded)"
   ]
  },
  {
   "cell_type": "code",
   "execution_count": 67,
   "metadata": {},
   "outputs": [
    {
     "name": "stdout",
     "output_type": "stream",
     "text": [
      "[[10 13 14  4  2  1 10 16 18  1  2  3 18 10 11 19 15  1 13 18 20  2  1  1\n",
      "  11  3 18 19 15  1 18  5 14 10  1  4  4 10 18 12  3  1  1  2  1 14 14 12\n",
      "  18 18  3 20  1  3  5 20  1 14 12 18 13 19 19 14 13  1  1  3 20 18  2  6\n",
      "  15 14 18  1 18  5 14 14  3  5  1 18  3  1  1  1  1 13  1  1 10 19 13  2\n",
      "  18 14 15  1 12  3 18  1  8  2 19 19  4  3 19  8  9 18 12  9 17 14 14  5\n",
      "  16  1 18 18 12]\n",
      " [10 13 17  4  2  1 10 16 18  1  2  3 17 10 11 19 15  1 13 17 20  2  1  1\n",
      "  11  3 18 19 15  1 17  5 14 10  1  4  4 10 17 12  3  1  1  2  1 14 14 12\n",
      "  17 18  3 20  1  3  5 20  1 17 12 18 13 19 19 14 13 17  1  3 20 18  2  6\n",
      "  17 14 18  1 18  5 14 14  3  5  1 17  3  1  1  1  1 13 17  1 10 19 13  2\n",
      "  17 14 15  1 12  3 18 17  8  2 19 19  4  3 19  8  9 18 12  9 17 14 14  5\n",
      "  16  1 18 18 12]]\n"
     ]
    }
   ],
   "source": [
    "print(target_encoded)"
   ]
  },
  {
   "cell_type": "code",
   "execution_count": 32,
   "metadata": {},
   "outputs": [],
   "source": [
    "br_predictions = br_model.HoTS_prediction(drugs_fp, targets_encoded)"
   ]
  },
  {
   "cell_type": "code",
   "execution_count": 33,
   "metadata": {},
   "outputs": [
    {
     "name": "stdout",
     "output_type": "stream",
     "text": [
      "Before Mutation DTI [0.28303626]\n",
      "After Mutation DTI [0.41362458]\n"
     ]
    }
   ],
   "source": [
    "print(\"Before Mutation DTI\",br_predictions[0][0])\n",
    "print(\"After Mutation DTI\",br_predictions[0][1])"
   ]
  }
 ],
 "metadata": {
  "kernelspec": {
   "display_name": "Python 3 (ipykernel)",
   "language": "python",
   "name": "python3"
  },
  "language_info": {
   "codemirror_mode": {
    "name": "ipython",
    "version": 3
   },
   "file_extension": ".py",
   "mimetype": "text/x-python",
   "name": "python",
   "nbconvert_exporter": "python",
   "pygments_lexer": "ipython3",
   "version": "3.11.4"
  }
 },
 "nbformat": 4,
 "nbformat_minor": 2
}
