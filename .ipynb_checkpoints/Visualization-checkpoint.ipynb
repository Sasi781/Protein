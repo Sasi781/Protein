{
 "cells": [
  {
   "cell_type": "code",
   "execution_count": 1,
   "id": "2b979819-2467-467b-bef6-66866c2390fd",
   "metadata": {},
   "outputs": [
    {
     "name": "stdout",
     "output_type": "stream",
     "text": [
      "Collecting Bio\n",
      "  Obtaining dependency information for Bio from https://files.pythonhosted.org/packages/76/d3/35115c00babbbcbd0580a8fb8cc6a49dd0ea2752913852703143d17997c7/bio-1.7.0-py3-none-any.whl.metadata\n",
      "  Downloading bio-1.7.0-py3-none-any.whl.metadata (5.6 kB)\n",
      "Requirement already satisfied: biopython>=1.80 in c:\\users\\sasin\\anaconda3\\lib\\site-packages (from Bio) (1.83)\n",
      "Collecting gprofiler-official (from Bio)\n",
      "  Obtaining dependency information for gprofiler-official from https://files.pythonhosted.org/packages/df/1b/5a87c1a1da8f601c00a0ce4dedb5aab8a5cad6a0f4a5062c4da22a045072/gprofiler_official-1.0.0-py3-none-any.whl.metadata\n",
      "  Downloading gprofiler_official-1.0.0-py3-none-any.whl.metadata (11 kB)\n",
      "Collecting mygene (from Bio)\n",
      "  Obtaining dependency information for mygene from https://files.pythonhosted.org/packages/a7/b7/132b1673c0ec00881d49d56c09624942fa0ebd2fc21d73d80647efa082e9/mygene-3.2.2-py2.py3-none-any.whl.metadata\n",
      "  Downloading mygene-3.2.2-py2.py3-none-any.whl.metadata (10 kB)\n",
      "Requirement already satisfied: pandas in c:\\users\\sasin\\anaconda3\\lib\\site-packages (from Bio) (2.2.1)\n",
      "Requirement already satisfied: pooch in c:\\users\\sasin\\anaconda3\\lib\\site-packages (from Bio) (1.4.0)\n",
      "Requirement already satisfied: requests in c:\\users\\sasin\\anaconda3\\lib\\site-packages (from Bio) (2.31.0)\n",
      "Requirement already satisfied: tqdm in c:\\users\\sasin\\anaconda3\\lib\\site-packages (from Bio) (4.65.0)\n",
      "Requirement already satisfied: numpy in c:\\users\\sasin\\anaconda3\\lib\\site-packages (from biopython>=1.80->Bio) (1.24.3)\n",
      "Collecting biothings-client>=0.2.6 (from mygene->Bio)\n",
      "  Obtaining dependency information for biothings-client>=0.2.6 from https://files.pythonhosted.org/packages/c2/21/6c4bdb8ba8d2cdeb5ac3a6460ab1cbd841e46cd851d6b00028b327c5deb3/biothings_client-0.3.1-py2.py3-none-any.whl.metadata\n",
      "  Downloading biothings_client-0.3.1-py2.py3-none-any.whl.metadata (9.8 kB)\n",
      "Requirement already satisfied: python-dateutil>=2.8.2 in c:\\users\\sasin\\anaconda3\\lib\\site-packages (from pandas->Bio) (2.8.2)\n",
      "Requirement already satisfied: pytz>=2020.1 in c:\\users\\sasin\\anaconda3\\lib\\site-packages (from pandas->Bio) (2022.7)\n",
      "Requirement already satisfied: tzdata>=2022.7 in c:\\users\\sasin\\anaconda3\\lib\\site-packages (from pandas->Bio) (2024.1)\n",
      "Requirement already satisfied: packaging in c:\\users\\sasin\\anaconda3\\lib\\site-packages (from pooch->Bio) (23.0)\n",
      "Requirement already satisfied: appdirs in c:\\users\\sasin\\anaconda3\\lib\\site-packages (from pooch->Bio) (1.4.4)\n",
      "Requirement already satisfied: charset-normalizer<4,>=2 in c:\\users\\sasin\\anaconda3\\lib\\site-packages (from requests->Bio) (2.0.4)\n",
      "Requirement already satisfied: idna<4,>=2.5 in c:\\users\\sasin\\anaconda3\\lib\\site-packages (from requests->Bio) (3.4)\n",
      "Requirement already satisfied: urllib3<3,>=1.21.1 in c:\\users\\sasin\\anaconda3\\lib\\site-packages (from requests->Bio) (1.26.16)\n",
      "Requirement already satisfied: certifi>=2017.4.17 in c:\\users\\sasin\\anaconda3\\lib\\site-packages (from requests->Bio) (2023.7.22)\n",
      "Requirement already satisfied: colorama in c:\\users\\sasin\\anaconda3\\lib\\site-packages (from tqdm->Bio) (0.4.6)\n",
      "Requirement already satisfied: six>=1.5 in c:\\users\\sasin\\anaconda3\\lib\\site-packages (from python-dateutil>=2.8.2->pandas->Bio) (1.16.0)\n",
      "Downloading bio-1.7.0-py3-none-any.whl (279 kB)\n",
      "   ---------------------------------------- 0.0/279.2 kB ? eta -:--:--\n",
      "   ---------------------------------------- 0.0/279.2 kB ? eta -:--:--\n",
      "   ---------------------------------------- 0.0/279.2 kB ? eta -:--:--\n",
      "   ---------------------------------------- 0.0/279.2 kB ? eta -:--:--\n",
      "   ---------------------------------------- 0.0/279.2 kB ? eta -:--:--\n",
      "   ---------------------------------------- 0.0/279.2 kB ? eta -:--:--\n",
      "   ---------------------------------------- 0.0/279.2 kB ? eta -:--:--\n",
      "   ---------------------------------------- 0.0/279.2 kB ? eta -:--:--\n",
      "   ---------------------------------------- 0.0/279.2 kB ? eta -:--:--\n",
      "   ---------------------------------------- 0.0/279.2 kB ? eta -:--:--\n",
      "   ---------------------------------------- 0.0/279.2 kB ? eta -:--:--\n",
      "   ---------------------------------------- 0.0/279.2 kB ? eta -:--:--\n",
      "   ---------------------------------------- 0.0/279.2 kB ? eta -:--:--\n",
      "   ---------------------------------------- 0.0/279.2 kB ? eta -:--:--\n",
      "   - -------------------------------------- 10.2/279.2 kB ? eta -:--:--\n",
      "   - -------------------------------------- 10.2/279.2 kB ? eta -:--:--\n",
      "   - -------------------------------------- 10.2/279.2 kB ? eta -:--:--\n",
      "   - -------------------------------------- 10.2/279.2 kB ? eta -:--:--\n",
      "   - -------------------------------------- 10.2/279.2 kB ? eta -:--:--\n",
      "   - -------------------------------------- 10.2/279.2 kB ? eta -:--:--\n",
      "   - -------------------------------------- 10.2/279.2 kB ? eta -:--:--\n",
      "   - -------------------------------------- 10.2/279.2 kB ? eta -:--:--\n",
      "   - -------------------------------------- 10.2/279.2 kB ? eta -:--:--\n",
      "   - -------------------------------------- 10.2/279.2 kB ? eta -:--:--\n",
      "   - -------------------------------------- 10.2/279.2 kB ? eta -:--:--\n",
      "   - -------------------------------------- 10.2/279.2 kB ? eta -:--:--\n",
      "   - -------------------------------------- 10.2/279.2 kB ? eta -:--:--\n",
      "   ---- ----------------------------------- 30.7/279.2 kB 32.8 kB/s eta 0:00:08\n",
      "   ---- ----------------------------------- 30.7/279.2 kB 32.8 kB/s eta 0:00:08\n",
      "   ---- ----------------------------------- 30.7/279.2 kB 32.8 kB/s eta 0:00:08\n",
      "   ---- ----------------------------------- 30.7/279.2 kB 32.8 kB/s eta 0:00:08\n",
      "   ---- ----------------------------------- 30.7/279.2 kB 32.8 kB/s eta 0:00:08\n",
      "   ---- ----------------------------------- 30.7/279.2 kB 32.8 kB/s eta 0:00:08\n",
      "   ---- ----------------------------------- 30.7/279.2 kB 32.8 kB/s eta 0:00:08\n",
      "   ---- ----------------------------------- 30.7/279.2 kB 32.8 kB/s eta 0:00:08\n",
      "   ---- ----------------------------------- 30.7/279.2 kB 32.8 kB/s eta 0:00:08\n",
      "   ---- ----------------------------------- 30.7/279.2 kB 32.8 kB/s eta 0:00:08\n",
      "   ---- ----------------------------------- 30.7/279.2 kB 32.8 kB/s eta 0:00:08\n",
      "   ---- ----------------------------------- 30.7/279.2 kB 32.8 kB/s eta 0:00:08\n",
      "   ---- ----------------------------------- 30.7/279.2 kB 32.8 kB/s eta 0:00:08\n",
      "   ---- ----------------------------------- 30.7/279.2 kB 32.8 kB/s eta 0:00:08\n",
      "   ---- ----------------------------------- 30.7/279.2 kB 32.8 kB/s eta 0:00:08\n",
      "   ----- ---------------------------------- 41.0/279.2 kB 23.1 kB/s eta 0:00:11\n",
      "   ----- ---------------------------------- 41.0/279.2 kB 23.1 kB/s eta 0:00:11\n",
      "   ----- ---------------------------------- 41.0/279.2 kB 23.1 kB/s eta 0:00:11\n",
      "   ----- ---------------------------------- 41.0/279.2 kB 23.1 kB/s eta 0:00:11\n",
      "   ----- ---------------------------------- 41.0/279.2 kB 23.1 kB/s eta 0:00:11\n",
      "   ----- ---------------------------------- 41.0/279.2 kB 23.1 kB/s eta 0:00:11\n",
      "   ----- ---------------------------------- 41.0/279.2 kB 23.1 kB/s eta 0:00:11\n",
      "   ----- ---------------------------------- 41.0/279.2 kB 23.1 kB/s eta 0:00:11\n",
      "   ----- ---------------------------------- 41.0/279.2 kB 23.1 kB/s eta 0:00:11\n",
      "   ----- ---------------------------------- 41.0/279.2 kB 23.1 kB/s eta 0:00:11\n",
      "   ----- ---------------------------------- 41.0/279.2 kB 23.1 kB/s eta 0:00:11\n",
      "   ----- ---------------------------------- 41.0/279.2 kB 23.1 kB/s eta 0:00:11\n",
      "   ----- ---------------------------------- 41.0/279.2 kB 23.1 kB/s eta 0:00:11\n",
      "   ----- ---------------------------------- 41.0/279.2 kB 23.1 kB/s eta 0:00:11\n",
      "   ----- ---------------------------------- 41.0/279.2 kB 23.1 kB/s eta 0:00:11\n",
      "   ----- ---------------------------------- 41.0/279.2 kB 23.1 kB/s eta 0:00:11\n",
      "   ----- ---------------------------------- 41.0/279.2 kB 23.1 kB/s eta 0:00:11\n",
      "   ----- ---------------------------------- 41.0/279.2 kB 23.1 kB/s eta 0:00:11\n",
      "   -------- ------------------------------- 61.4/279.2 kB 23.7 kB/s eta 0:00:10\n",
      "   -------- ------------------------------- 61.4/279.2 kB 23.7 kB/s eta 0:00:10\n",
      "   -------- ------------------------------- 61.4/279.2 kB 23.7 kB/s eta 0:00:10\n",
      "   -------- ------------------------------- 61.4/279.2 kB 23.7 kB/s eta 0:00:10\n",
      "   -------- ------------------------------- 61.4/279.2 kB 23.7 kB/s eta 0:00:10\n",
      "   -------- ------------------------------- 61.4/279.2 kB 23.7 kB/s eta 0:00:10\n",
      "   -------- ------------------------------- 61.4/279.2 kB 23.7 kB/s eta 0:00:10\n",
      "   -------- ------------------------------- 61.4/279.2 kB 23.7 kB/s eta 0:00:10\n",
      "   -------- ------------------------------- 61.4/279.2 kB 23.7 kB/s eta 0:00:10\n",
      "   -------- ------------------------------- 61.4/279.2 kB 23.7 kB/s eta 0:00:10\n",
      "   -------- ------------------------------- 61.4/279.2 kB 23.7 kB/s eta 0:00:10\n",
      "   -------- ------------------------------- 61.4/279.2 kB 23.7 kB/s eta 0:00:10\n",
      "   -------- ------------------------------- 61.4/279.2 kB 23.7 kB/s eta 0:00:10\n",
      "   -------- ------------------------------- 61.4/279.2 kB 23.7 kB/s eta 0:00:10\n",
      "   -------- ------------------------------- 61.4/279.2 kB 23.7 kB/s eta 0:00:10\n",
      "   -------- ------------------------------- 61.4/279.2 kB 23.7 kB/s eta 0:00:10\n",
      "   ----------- ---------------------------- 81.9/279.2 kB 24.9 kB/s eta 0:00:08\n",
      "   ----------- ---------------------------- 81.9/279.2 kB 24.9 kB/s eta 0:00:08\n",
      "   ----------- ---------------------------- 81.9/279.2 kB 24.9 kB/s eta 0:00:08\n",
      "   ----------- ---------------------------- 81.9/279.2 kB 24.9 kB/s eta 0:00:08\n",
      "   ----------- ---------------------------- 81.9/279.2 kB 24.9 kB/s eta 0:00:08\n",
      "   ----------- ---------------------------- 81.9/279.2 kB 24.9 kB/s eta 0:00:08\n",
      "   ----------- ---------------------------- 81.9/279.2 kB 24.9 kB/s eta 0:00:08\n",
      "   ----------- ---------------------------- 81.9/279.2 kB 24.9 kB/s eta 0:00:08\n",
      "   ----------- ---------------------------- 81.9/279.2 kB 24.9 kB/s eta 0:00:08\n",
      "   ----------- ---------------------------- 81.9/279.2 kB 24.9 kB/s eta 0:00:08\n",
      "   ----------- ---------------------------- 81.9/279.2 kB 24.9 kB/s eta 0:00:08\n",
      "   ----------- ---------------------------- 81.9/279.2 kB 24.9 kB/s eta 0:00:08\n",
      "   ----------- ---------------------------- 81.9/279.2 kB 24.9 kB/s eta 0:00:08\n",
      "   ----------- ---------------------------- 81.9/279.2 kB 24.9 kB/s eta 0:00:08\n",
      "   ----------- ---------------------------- 81.9/279.2 kB 24.9 kB/s eta 0:00:08\n",
      "   ----------- ---------------------------- 81.9/279.2 kB 24.9 kB/s eta 0:00:08\n",
      "   ----------- ---------------------------- 81.9/279.2 kB 24.9 kB/s eta 0:00:08\n",
      "   ----------- ---------------------------- 81.9/279.2 kB 24.9 kB/s eta 0:00:08\n",
      "   ----------- ---------------------------- 81.9/279.2 kB 24.9 kB/s eta 0:00:08\n",
      "   ------------- -------------------------- 92.2/279.2 kB 21.6 kB/s eta 0:00:09\n",
      "   ------------- -------------------------- 92.2/279.2 kB 21.6 kB/s eta 0:00:09\n",
      "   ------------- -------------------------- 92.2/279.2 kB 21.6 kB/s eta 0:00:09\n",
      "   ------------- -------------------------- 92.2/279.2 kB 21.6 kB/s eta 0:00:09\n",
      "   ------------- -------------------------- 92.2/279.2 kB 21.6 kB/s eta 0:00:09\n",
      "   ------------- -------------------------- 92.2/279.2 kB 21.6 kB/s eta 0:00:09\n",
      "   ------------- -------------------------- 92.2/279.2 kB 21.6 kB/s eta 0:00:09\n",
      "   ------------- -------------------------- 92.2/279.2 kB 21.6 kB/s eta 0:00:09\n",
      "   ------------- -------------------------- 92.2/279.2 kB 21.6 kB/s eta 0:00:09\n",
      "   ------------- -------------------------- 92.2/279.2 kB 21.6 kB/s eta 0:00:09\n",
      "   ------------- -------------------------- 92.2/279.2 kB 21.6 kB/s eta 0:00:09\n",
      "   --------------- ----------------------- 112.6/279.2 kB 23.7 kB/s eta 0:00:08\n",
      "   --------------- ----------------------- 112.6/279.2 kB 23.7 kB/s eta 0:00:08\n",
      "   --------------- ----------------------- 112.6/279.2 kB 23.7 kB/s eta 0:00:08\n",
      "   --------------- ----------------------- 112.6/279.2 kB 23.7 kB/s eta 0:00:08\n",
      "   --------------- ----------------------- 112.6/279.2 kB 23.7 kB/s eta 0:00:08\n",
      "   --------------- ----------------------- 112.6/279.2 kB 23.7 kB/s eta 0:00:08\n",
      "   --------------- ----------------------- 112.6/279.2 kB 23.7 kB/s eta 0:00:08\n",
      "   --------------- ----------------------- 112.6/279.2 kB 23.7 kB/s eta 0:00:08\n",
      "   --------------- ----------------------- 112.6/279.2 kB 23.7 kB/s eta 0:00:08\n",
      "   --------------- ----------------------- 112.6/279.2 kB 23.7 kB/s eta 0:00:08\n",
      "   --------------- ----------------------- 112.6/279.2 kB 23.7 kB/s eta 0:00:08\n",
      "   --------------- ----------------------- 112.6/279.2 kB 23.7 kB/s eta 0:00:08\n",
      "   --------------- ----------------------- 112.6/279.2 kB 23.7 kB/s eta 0:00:08\n",
      "   --------------- ----------------------- 112.6/279.2 kB 23.7 kB/s eta 0:00:08\n",
      "   --------------- ----------------------- 112.6/279.2 kB 23.7 kB/s eta 0:00:08\n",
      "   --------------- ----------------------- 112.6/279.2 kB 23.7 kB/s eta 0:00:08\n",
      "   --------------- ----------------------- 112.6/279.2 kB 23.7 kB/s eta 0:00:08\n",
      "   --------------- ----------------------- 112.6/279.2 kB 23.7 kB/s eta 0:00:08\n",
      "   --------------- ----------------------- 112.6/279.2 kB 23.7 kB/s eta 0:00:08\n",
      "   --------------- ----------------------- 112.6/279.2 kB 23.7 kB/s eta 0:00:08\n",
      "   --------------- ----------------------- 112.6/279.2 kB 23.7 kB/s eta 0:00:08\n",
      "   --------------- ----------------------- 112.6/279.2 kB 23.7 kB/s eta 0:00:08\n",
      "   --------------- ----------------------- 112.6/279.2 kB 23.7 kB/s eta 0:00:08\n",
      "   ----------------- --------------------- 122.9/279.2 kB 21.0 kB/s eta 0:00:08\n",
      "   ----------------- --------------------- 122.9/279.2 kB 21.0 kB/s eta 0:00:08\n",
      "   ----------------- --------------------- 122.9/279.2 kB 21.0 kB/s eta 0:00:08\n",
      "   ----------------- --------------------- 122.9/279.2 kB 21.0 kB/s eta 0:00:08\n",
      "   ----------------- --------------------- 122.9/279.2 kB 21.0 kB/s eta 0:00:08\n",
      "   ----------------- --------------------- 122.9/279.2 kB 21.0 kB/s eta 0:00:08\n",
      "   ----------------- --------------------- 122.9/279.2 kB 21.0 kB/s eta 0:00:08\n",
      "   ----------------- --------------------- 122.9/279.2 kB 21.0 kB/s eta 0:00:08\n",
      "   ----------------- --------------------- 122.9/279.2 kB 21.0 kB/s eta 0:00:08\n",
      "   ----------------- --------------------- 122.9/279.2 kB 21.0 kB/s eta 0:00:08\n",
      "   ----------------- --------------------- 122.9/279.2 kB 21.0 kB/s eta 0:00:08\n",
      "   ----------------- --------------------- 122.9/279.2 kB 21.0 kB/s eta 0:00:08\n",
      "   ----------------- --------------------- 122.9/279.2 kB 21.0 kB/s eta 0:00:08\n",
      "   ----------------- --------------------- 122.9/279.2 kB 21.0 kB/s eta 0:00:08\n",
      "   ----------------- --------------------- 122.9/279.2 kB 21.0 kB/s eta 0:00:08\n",
      "   -------------------- ------------------ 143.4/279.2 kB 22.0 kB/s eta 0:00:07\n",
      "   -------------------- ------------------ 143.4/279.2 kB 22.0 kB/s eta 0:00:07\n",
      "   -------------------- ------------------ 143.4/279.2 kB 22.0 kB/s eta 0:00:07\n",
      "   -------------------- ------------------ 143.4/279.2 kB 22.0 kB/s eta 0:00:07\n",
      "   -------------------- ------------------ 143.4/279.2 kB 22.0 kB/s eta 0:00:07\n",
      "   -------------------- ------------------ 143.4/279.2 kB 22.0 kB/s eta 0:00:07\n",
      "   -------------------- ------------------ 143.4/279.2 kB 22.0 kB/s eta 0:00:07\n",
      "   -------------------- ------------------ 143.4/279.2 kB 22.0 kB/s eta 0:00:07\n",
      "   -------------------- ------------------ 143.4/279.2 kB 22.0 kB/s eta 0:00:07\n",
      "   -------------------- ------------------ 143.4/279.2 kB 22.0 kB/s eta 0:00:07\n",
      "   -------------------- ------------------ 143.4/279.2 kB 22.0 kB/s eta 0:00:07\n",
      "   -------------------- ------------------ 143.4/279.2 kB 22.0 kB/s eta 0:00:07\n",
      "   -------------------- ------------------ 143.4/279.2 kB 22.0 kB/s eta 0:00:07\n",
      "   -------------------- ------------------ 143.4/279.2 kB 22.0 kB/s eta 0:00:07\n",
      "   -------------------- ------------------ 143.4/279.2 kB 22.0 kB/s eta 0:00:07\n",
      "   ---------------------- ---------------- 163.8/279.2 kB 22.8 kB/s eta 0:00:06\n",
      "   ---------------------- ---------------- 163.8/279.2 kB 22.8 kB/s eta 0:00:06\n",
      "   ---------------------- ---------------- 163.8/279.2 kB 22.8 kB/s eta 0:00:06\n",
      "   ---------------------- ---------------- 163.8/279.2 kB 22.8 kB/s eta 0:00:06\n",
      "   ---------------------- ---------------- 163.8/279.2 kB 22.8 kB/s eta 0:00:06\n",
      "   ---------------------- ---------------- 163.8/279.2 kB 22.8 kB/s eta 0:00:06\n",
      "   ---------------------- ---------------- 163.8/279.2 kB 22.8 kB/s eta 0:00:06\n",
      "   ---------------------- ---------------- 163.8/279.2 kB 22.8 kB/s eta 0:00:06\n",
      "   ---------------------- ---------------- 163.8/279.2 kB 22.8 kB/s eta 0:00:06\n",
      "   ---------------------- ---------------- 163.8/279.2 kB 22.8 kB/s eta 0:00:06\n",
      "   ---------------------- ---------------- 163.8/279.2 kB 22.8 kB/s eta 0:00:06\n",
      "   ------------------------ -------------- 174.1/279.2 kB 22.5 kB/s eta 0:00:05\n",
      "   ------------------------ -------------- 174.1/279.2 kB 22.5 kB/s eta 0:00:05\n",
      "   ------------------------ -------------- 174.1/279.2 kB 22.5 kB/s eta 0:00:05\n",
      "   ------------------------ -------------- 174.1/279.2 kB 22.5 kB/s eta 0:00:05\n",
      "   ------------------------ -------------- 174.1/279.2 kB 22.5 kB/s eta 0:00:05\n",
      "   ------------------------ -------------- 174.1/279.2 kB 22.5 kB/s eta 0:00:05\n",
      "   ------------------------ -------------- 174.1/279.2 kB 22.5 kB/s eta 0:00:05\n",
      "   ------------------------ -------------- 174.1/279.2 kB 22.5 kB/s eta 0:00:05\n",
      "   ------------------------ -------------- 174.1/279.2 kB 22.5 kB/s eta 0:00:05\n",
      "   ------------------------ -------------- 174.1/279.2 kB 22.5 kB/s eta 0:00:05\n",
      "   ------------------------ -------------- 174.1/279.2 kB 22.5 kB/s eta 0:00:05\n",
      "   --------------------------- ----------- 194.6/279.2 kB 23.7 kB/s eta 0:00:04\n",
      "   --------------------------- ----------- 194.6/279.2 kB 23.7 kB/s eta 0:00:04\n",
      "   --------------------------- ----------- 194.6/279.2 kB 23.7 kB/s eta 0:00:04\n",
      "   --------------------------- ----------- 194.6/279.2 kB 23.7 kB/s eta 0:00:04\n",
      "   --------------------------- ----------- 194.6/279.2 kB 23.7 kB/s eta 0:00:04\n",
      "   --------------------------- ----------- 194.6/279.2 kB 23.7 kB/s eta 0:00:04\n",
      "   --------------------------- ----------- 194.6/279.2 kB 23.7 kB/s eta 0:00:04\n",
      "   --------------------------- ----------- 194.6/279.2 kB 23.7 kB/s eta 0:00:04\n",
      "   --------------------------- ----------- 194.6/279.2 kB 23.7 kB/s eta 0:00:04\n",
      "   --------------------------- ----------- 194.6/279.2 kB 23.7 kB/s eta 0:00:04\n",
      "   --------------------------- ----------- 194.6/279.2 kB 23.7 kB/s eta 0:00:04\n",
      "   ---------------------------- ---------- 204.8/279.2 kB 23.4 kB/s eta 0:00:04\n",
      "   ---------------------------- ---------- 204.8/279.2 kB 23.4 kB/s eta 0:00:04\n",
      "   ---------------------------- ---------- 204.8/279.2 kB 23.4 kB/s eta 0:00:04\n",
      "   ---------------------------- ---------- 204.8/279.2 kB 23.4 kB/s eta 0:00:04\n",
      "   ---------------------------- ---------- 204.8/279.2 kB 23.4 kB/s eta 0:00:04\n",
      "   ---------------------------- ---------- 204.8/279.2 kB 23.4 kB/s eta 0:00:04\n",
      "   ------------------------------- ------- 225.3/279.2 kB 25.0 kB/s eta 0:00:03\n",
      "   ------------------------------- ------- 225.3/279.2 kB 25.0 kB/s eta 0:00:03\n",
      "   ------------------------------- ------- 225.3/279.2 kB 25.0 kB/s eta 0:00:03\n",
      "   ------------------------------- ------- 225.3/279.2 kB 25.0 kB/s eta 0:00:03\n",
      "   ------------------------------- ------- 225.3/279.2 kB 25.0 kB/s eta 0:00:03\n",
      "   ------------------------------- ------- 225.3/279.2 kB 25.0 kB/s eta 0:00:03\n",
      "   ------------------------------- ------- 225.3/279.2 kB 25.0 kB/s eta 0:00:03\n",
      "   ------------------------------- ------- 225.3/279.2 kB 25.0 kB/s eta 0:00:03\n",
      "   ------------------------------- ------- 225.3/279.2 kB 25.0 kB/s eta 0:00:03\n",
      "   ------------------------------- ------- 225.3/279.2 kB 25.0 kB/s eta 0:00:03\n",
      "   ------------------------------- ------- 225.3/279.2 kB 25.0 kB/s eta 0:00:03\n",
      "   ------------------------------- ------- 225.3/279.2 kB 25.0 kB/s eta 0:00:03\n",
      "   ------------------------------- ------- 225.3/279.2 kB 25.0 kB/s eta 0:00:03\n",
      "   ---------------------------------- ---- 245.8/279.2 kB 25.6 kB/s eta 0:00:02\n",
      "   ---------------------------------- ---- 245.8/279.2 kB 25.6 kB/s eta 0:00:02\n",
      "   ---------------------------------- ---- 245.8/279.2 kB 25.6 kB/s eta 0:00:02\n",
      "   ---------------------------------- ---- 245.8/279.2 kB 25.6 kB/s eta 0:00:02\n",
      "   ---------------------------------- ---- 245.8/279.2 kB 25.6 kB/s eta 0:00:02\n",
      "   ---------------------------------- ---- 245.8/279.2 kB 25.6 kB/s eta 0:00:02\n",
      "   ---------------------------------- ---- 245.8/279.2 kB 25.6 kB/s eta 0:00:02\n",
      "   ---------------------------------- ---- 245.8/279.2 kB 25.6 kB/s eta 0:00:02\n",
      "   ---------------------------------- ---- 245.8/279.2 kB 25.6 kB/s eta 0:00:02\n",
      "   ---------------------------------- ---- 245.8/279.2 kB 25.6 kB/s eta 0:00:02\n",
      "   ---------------------------------- ---- 245.8/279.2 kB 25.6 kB/s eta 0:00:02\n",
      "   ---------------------------------- ---- 245.8/279.2 kB 25.6 kB/s eta 0:00:02\n",
      "   ---------------------------------- ---- 245.8/279.2 kB 25.6 kB/s eta 0:00:02\n",
      "   ----------------------------------- --- 256.0/279.2 kB 25.1 kB/s eta 0:00:01\n",
      "   ----------------------------------- --- 256.0/279.2 kB 25.1 kB/s eta 0:00:01\n",
      "   ----------------------------------- --- 256.0/279.2 kB 25.1 kB/s eta 0:00:01\n",
      "   ----------------------------------- --- 256.0/279.2 kB 25.1 kB/s eta 0:00:01\n",
      "   ----------------------------------- --- 256.0/279.2 kB 25.1 kB/s eta 0:00:01\n",
      "   ----------------------------------- --- 256.0/279.2 kB 25.1 kB/s eta 0:00:01\n",
      "   ----------------------------------- --- 256.0/279.2 kB 25.1 kB/s eta 0:00:01\n",
      "   ----------------------------------- --- 256.0/279.2 kB 25.1 kB/s eta 0:00:01\n",
      "   ----------------------------------- --- 256.0/279.2 kB 25.1 kB/s eta 0:00:01\n",
      "   --------------------------------------- 279.2/279.2 kB 26.3 kB/s eta 0:00:00\n",
      "Downloading gprofiler_official-1.0.0-py3-none-any.whl (9.3 kB)\n",
      "Downloading mygene-3.2.2-py2.py3-none-any.whl (5.4 kB)\n",
      "Downloading biothings_client-0.3.1-py2.py3-none-any.whl (29 kB)\n",
      "Installing collected packages: gprofiler-official, biothings-client, mygene, Bio\n",
      "Successfully installed Bio-1.7.0 biothings-client-0.3.1 gprofiler-official-1.0.0 mygene-3.2.2\n",
      "Note: you may need to restart the kernel to use updated packages.\n"
     ]
    }
   ],
   "source": [
    "pip install Bio"
   ]
  },
  {
   "cell_type": "code",
   "execution_count": null,
   "id": "844b7f47-ee90-46e3-aa2a-a918d50ee1d8",
   "metadata": {
    "scrolled": true
   },
   "outputs": [],
   "source": [
    "pip install nglview"
   ]
  },
  {
   "cell_type": "code",
   "execution_count": 4,
   "id": "a8a54004-0714-4aba-afa0-399b274ba5fc",
   "metadata": {},
   "outputs": [
    {
     "name": "stdout",
     "output_type": "stream",
     "text": [
      "Defaulting to user installation because normal site-packages is not writeable\n",
      "Looking in links: /usr/share/pip-wheels\n",
      "Collecting rdkit\n",
      "  Obtaining dependency information for rdkit from https://files.pythonhosted.org/packages/aa/7c/a80822e9e348f600107e291dae40d136da59a20a3d285df897698ad32379/rdkit-2023.9.5-cp311-cp311-manylinux_2_17_x86_64.manylinux2014_x86_64.whl.metadata\n",
      "  Downloading rdkit-2023.9.5-cp311-cp311-manylinux_2_17_x86_64.manylinux2014_x86_64.whl.metadata (3.9 kB)\n",
      "Requirement already satisfied: numpy in /opt/conda/envs/anaconda-panel-2023.05-py310/lib/python3.11/site-packages (from rdkit) (1.24.3)\n",
      "Requirement already satisfied: Pillow in /opt/conda/envs/anaconda-panel-2023.05-py310/lib/python3.11/site-packages (from rdkit) (9.4.0)\n",
      "Downloading rdkit-2023.9.5-cp311-cp311-manylinux_2_17_x86_64.manylinux2014_x86_64.whl (34.4 MB)\n",
      "\u001b[2K   \u001b[38;5;70m━━━━━━━━━━━━━━━━━━━━━━━━━━━━━━━━━━━━━━━━\u001b[0m \u001b[32m34.4/34.4 MB\u001b[0m \u001b[31m37.2 MB/s\u001b[0m eta \u001b[36m0:00:00\u001b[0m \u001b[36m0:00:01\u001b[0m6m0:00:01\u001b[0m0m\n",
      "\u001b[?25hInstalling collected packages: rdkit\n",
      "Successfully installed rdkit-2023.9.5\n",
      "Note: you may need to restart the kernel to use updated packages.\n"
     ]
    }
   ],
   "source": [
    "pip install rdkit"
   ]
  },
  {
   "cell_type": "markdown",
   "id": "e1301f92-64f9-4374-9b97-c1388226a6a3",
   "metadata": {},
   "source": [
    "DRUG"
   ]
  },
  {
   "cell_type": "code",
   "execution_count": 9,
   "id": "d2957339-a88b-4bc7-9d22-07a53ef5cc09",
   "metadata": {},
   "outputs": [
    {
     "data": {
      "image/png": "[encoded data removed]",
      "text/plain": [
       "<rdkit.Chem.rdchem.Mol at 0x7f58203f9b60>"
      ]
     },
     "execution_count": 9,
     "metadata": {},
     "output_type": "execute_result"
    }
   ],
   "source": [
    "from rdkit import Chem\n",
    "from rdkit.Chem import AllChem\n",
    "from rdkit.Chem import Draw\n",
    "from rdkit.Chem.Draw import IPythonConsole\n",
    "\n",
    "# Define a SMILES string\n",
    "smiles = 'CC(=O)Nc1ccc(O)cc1'\n",
    "\n",
    "# Convert SMILES string to RDKit Mol object\n",
    "mol = Chem.MolFromSmiles(smiles)\n",
    "\n",
    "# Generate 3D coordinates\n",
    "mol = Chem.AddHs(mol)\n",
    "AllChem.EmbedMolecule(mol)\n",
    "\n",
    "# Visualize in 3D\n",
    "mol\n"
   ]
  },
  {
   "cell_type": "code",
   "execution_count": 11,
   "id": "0285cf82-9539-48f5-a015-e412ea6d1fb3",
   "metadata": {},
   "outputs": [],
   "source": [
    "import nglview as nv"
   ]
  },
  {
   "cell_type": "code",
   "execution_count": 13,
   "id": "70d9d1fd-4019-4133-ac28-a12240d83c1c",
   "metadata": {},
   "outputs": [
    {
     "data": {
      "application/vnd.jupyter.widget-view+json": {
       "model_id": "6362564a5a7c47a9b534b05c874eabf3",
       "version_major": 2,
       "version_minor": 0
      },
      "text/plain": [
       "NGLWidget()"
      ]
     },
     "metadata": {},
     "output_type": "display_data"
    }
   ],
   "source": [
    "view_drug=nv.show_rdkit(mol)\n",
    "view_drug"
   ]
  },
  {
   "cell_type": "markdown",
   "id": "0ecc01d3-07a7-4b60-a191-7fea5d8ab2fc",
   "metadata": {},
   "source": [
    "Protein"
   ]
  },
  {
   "cell_type": "code",
   "execution_count": 15,
   "id": "4dbd219f-c50e-4d77-a959-2275ec87daa6",
   "metadata": {},
   "outputs": [
    {
     "name": "stderr",
     "output_type": "stream",
     "text": [
      "/home/37134ebd-ab56-4b12-8cef-73c70f2aa567/.local/lib/python3.11/site-packages/Bio/PDB/StructureBuilder.py:89: PDBConstructionWarning: WARNING: Chain A is discontinuous at line 2211.\n",
      "  warnings.warn(\n",
      "/home/37134ebd-ab56-4b12-8cef-73c70f2aa567/.local/lib/python3.11/site-packages/Bio/PDB/StructureBuilder.py:89: PDBConstructionWarning: WARNING: Chain B is discontinuous at line 2254.\n",
      "  warnings.warn(\n",
      "/home/37134ebd-ab56-4b12-8cef-73c70f2aa567/.local/lib/python3.11/site-packages/Bio/PDB/StructureBuilder.py:89: PDBConstructionWarning: WARNING: Chain A is discontinuous at line 2297.\n",
      "  warnings.warn(\n",
      "/home/37134ebd-ab56-4b12-8cef-73c70f2aa567/.local/lib/python3.11/site-packages/Bio/PDB/StructureBuilder.py:89: PDBConstructionWarning: WARNING: Chain B is discontinuous at line 2412.\n",
      "  warnings.warn(\n"
     ]
    }
   ],
   "source": [
    "import nglview as nv\n",
    "from Bio.PDB import *\n",
    "parser = MMCIFParser()\n",
    "parser = PDBParser()\n",
    "structure = parser.get_structure('1a7v', 'pdb/1a7v.pdb')\n",
    "# Create a view showing the structure\n",
    "view = nv.show_biopython(structure)"
   ]
  },
  {
   "cell_type": "code",
   "execution_count": 17,
   "id": "82b6f26d-759b-4435-8e75-5b6ff2935a73",
   "metadata": {},
   "outputs": [
    {
     "data": {
      "application/vnd.jupyter.widget-view+json": {
       "model_id": "18ab2250e2f64a15bed7fdd3a6250cc4",
       "version_major": 2,
       "version_minor": 0
      },
      "text/plain": [
       "NGLWidget()"
      ]
     },
     "metadata": {},
     "output_type": "display_data"
    }
   ],
   "source": [
    "view"
   ]
  },
  {
   "cell_type": "markdown",
   "id": "c68fca6c-7058-45aa-b567-54518ba51634",
   "metadata": {},
   "source": [
    "Binding Residues in Protein"
   ]
  },
  {
   "cell_type": "code",
   "execution_count": 19,
   "id": "75cb785d-7c84-4de7-bed5-7c5c18f8704a",
   "metadata": {},
   "outputs": [
    {
     "data": {
      "application/vnd.jupyter.widget-view+json": {
       "model_id": "c4d2f01cf03f4238ae572098a5e9c7d6",
       "version_major": 2,
       "version_minor": 0
      },
      "text/plain": [
       "NGLWidget()"
      ]
     },
     "metadata": {},
     "output_type": "display_data"
    }
   ],
   "source": [
    "# Create a view\n",
    "view3 = nv.NGLWidget()\n",
    "\n",
    "# Load the PDB file\n",
    "view3.add_component('pdb/1a7v.pdb')\n",
    "\n",
    "# Set the sphere representation for specific atoms\n",
    "view3.clear_representations()  # Clear existing representations\n",
    "view3.add_cartoon(color='red')\n",
    "view3.add_cartoon(selection=str([1,50,51,52,53,72,73,74,75,76]),color='green')\n",
    "\n",
    "# Display the view\n",
    "view3\n"
   ]
  },
  {
   "cell_type": "markdown",
   "id": "bbfbda5a-ac91-494a-af8c-a09d4e61971c",
   "metadata": {},
   "source": [
    "Protein Change"
   ]
  },
  {
   "cell_type": "code",
   "execution_count": 21,
   "id": "27ad5bfb-3666-4c60-a81e-9f2a7e950113",
   "metadata": {},
   "outputs": [],
   "source": [
    "# Create a view\n",
    "view1 = nv.NGLWidget()\n",
    "\n",
    "# Load the PDB file\n",
    "view1.add_component('pdb/1a7v.pdb')\n",
    "\n",
    "# Set the sphere representation for specific atoms\n",
    "view1.clear_representations()  # Clear existing representations\n",
    "view1.add_cartoon('protein',color='green')\n",
    "view1.add_ball_and_stick(selection=str([1,73]))"
   ]
  },
  {
   "cell_type": "code",
   "execution_count": 23,
   "id": "ffc8bea3-20da-491b-bd49-a3c8d0c2e182",
   "metadata": {},
   "outputs": [
    {
     "data": {
      "application/vnd.jupyter.widget-view+json": {
       "model_id": "6cf78ef225404c40a0834f77d8ebd2b3",
       "version_major": 2,
       "version_minor": 0
      },
      "text/plain": [
       "NGLWidget()"
      ]
     },
     "metadata": {},
     "output_type": "display_data"
    }
   ],
   "source": [
    "view1"
   ]
  },
  {
   "cell_type": "code",
   "execution_count": 25,
   "id": "9b738a31-995a-4cbf-a247-93b9ade43718",
   "metadata": {},
   "outputs": [],
   "source": [
    "# Create a view\n",
    "view2 = nv.NGLWidget()\n",
    "\n",
    "# Load the PDB file\n",
    "view2.add_component('pdb/mt_1a7v.pdb')\n",
    "\n",
    "# Set the sphere representation for specific atoms\n",
    "view2.clear_representations()  # Clear existing representations\n",
    "view2.add_cartoon('protein')\n",
    "view2.add_ball_and_stick(selection=str([1,73]))"
   ]
  },
  {
   "cell_type": "code",
   "execution_count": 27,
   "id": "4ba000fb-946f-4bf4-8fb4-10ed7d814427",
   "metadata": {},
   "outputs": [
    {
     "data": {
      "application/vnd.jupyter.widget-view+json": {
       "model_id": "d3e5881d47c04ad7b2591e2342e64ce8",
       "version_major": 2,
       "version_minor": 0
      },
      "text/plain": [
       "NGLWidget()"
      ]
     },
     "metadata": {},
     "output_type": "display_data"
    }
   ],
   "source": [
    "view2"
   ]
  },
  {
   "cell_type": "code",
   "execution_count": 29,
   "id": "03bec455-5f59-4055-826e-985ff05d69dc",
   "metadata": {},
   "outputs": [],
   "source": [
    "# Create a view\n",
    "view4 = nv.NGLWidget()\n",
    "\n",
    "# Load the PDB file\n",
    "view4.add_component('pdb/mt_1a7v.pdb')\n",
    "\n",
    "# Set the sphere representation for specific atoms\n",
    "view4.clear_representations()  # Clear existing representations\n",
    "view4.add_cartoon('protein')\n",
    "view4.add_representation('licorice',selection=str([1,73]),color='green',radius=0.5)"
   ]
  },
  {
   "cell_type": "code",
   "execution_count": 31,
   "id": "29fdc2c0-8b39-4547-b4c2-c958cec018e0",
   "metadata": {},
   "outputs": [
    {
     "data": {
      "application/vnd.jupyter.widget-view+json": {
       "model_id": "1637dadcc4e74241bc84fe00aa47260f",
       "version_major": 2,
       "version_minor": 0
      },
      "text/plain": [
       "NGLWidget()"
      ]
     },
     "metadata": {},
     "output_type": "display_data"
    }
   ],
   "source": [
    "view4"
   ]
  },
  {
   "cell_type": "code",
   "execution_count": 41,
   "id": "69f9ce31-11bd-4286-b726-74bbaafaae43",
   "metadata": {},
   "outputs": [],
   "source": [
    "# Create a view\n",
    "view5 = nv.NGLWidget()\n",
    "\n",
    "# Load the PDB file\n",
    "view5.add_component('pdb/1a7v.pdb')\n",
    "\n",
    "# Set the sphere representation for specific atoms\n",
    "view5.clear_representations()  # Clear existing representations\n",
    "view5.add_cartoon('protein')\n",
    "view5.add_ball_and_stick(selection=str([1,10,11,12,13,14,15,16,17,18,19,20,21,22,23,24,25,26,27]))"
   ]
  },
  {
   "cell_type": "code",
   "execution_count": 43,
   "id": "64d30b39-d3a4-4651-93c7-2677d8cd4587",
   "metadata": {},
   "outputs": [
    {
     "data": {
      "application/vnd.jupyter.widget-view+json": {
       "model_id": "9656ed27599544789a7366d367fcecd7",
       "version_major": 2,
       "version_minor": 0
      },
      "text/plain": [
       "NGLWidget()"
      ]
     },
     "metadata": {},
     "output_type": "display_data"
    }
   ],
   "source": [
    "view5"
   ]
  }
 ],
 "metadata": {
  "kernelspec": {
   "display_name": "Python 3 (ipykernel)",
   "language": "python",
   "name": "python3"
  },
  "language_info": {
   "codemirror_mode": {
    "name": "ipython",
    "version": 3
   },
   "file_extension": ".py",
   "mimetype": "text/x-python",
   "name": "python",
   "nbconvert_exporter": "python",
   "pygments_lexer": "ipython3",
   "version": "3.11.4"
  }
 },
 "nbformat": 4,
 "nbformat_minor": 5
}
